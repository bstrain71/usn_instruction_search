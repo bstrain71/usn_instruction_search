{
  "nbformat": 4,
  "nbformat_minor": 0,
  "metadata": {
    "kernelspec": {
      "display_name": "Python 3",
      "language": "python",
      "name": "python3"
    },
    "language_info": {
      "codemirror_mode": {
        "name": "ipython",
        "version": 3
      },
      "file_extension": ".py",
      "mimetype": "text/x-python",
      "name": "python",
      "nbconvert_exporter": "python",
      "pygments_lexer": "ipython3",
      "version": "3.6.5"
    },
    "colab": {
      "name": "usn_instruction_search.ipynb",
      "provenance": [],
      "include_colab_link": true
    }
  },
  "cells": [
    {
      "cell_type": "markdown",
      "metadata": {
        "id": "view-in-github",
        "colab_type": "text"
      },
      "source": [
        "<a href=\"https://colab.research.google.com/github/bstrain71/usn_instruction_search/blob/master/usn_instruction_search.ipynb\" target=\"_parent\"><img src=\"https://colab.research.google.com/assets/colab-badge.svg\" alt=\"Open In Colab\"/></a>"
      ]
    },
    {
      "cell_type": "markdown",
      "metadata": {
        "id": "T_LG-8eNj7CV",
        "colab_type": "text"
      },
      "source": [
        "### INGEST"
      ]
    },
    {
      "cell_type": "markdown",
      "metadata": {
        "id": "GqstC-ucG4bd",
        "colab_type": "text"
      },
      "source": [
        "OPNAV Instructions: https://www.secnav.navy.mil/doni/opnav.aspx?RootFolder=%2Fdoni%2FDirectives%2F01000%20Military%20Personnel%20Support&FolderCTID=0x012000E8AF0DD9490E0547A7DE7CF736393D04&View=%7BCACF3AEF%2DAED4%2D433A%2D8CE5%2DA45245715B5C%7D\n",
        "\n",
        "Note: This example only contains series 01-01 through 01-500 as it is just for demonstration. Here is a key to their topics:\n",
        "\n",
        " \n",
        "01-01 General Military Personnel Records\n",
        "\n",
        "01-100 General Recruiting Records \n",
        "\n",
        "01-200 Personnel Classification and Designation \n",
        "\n",
        "01-300 Assignment and Distribution Services  \n",
        "\n",
        "01-400 Promotion and Advancement Programs \n",
        "\n",
        "01-500 Military Training and Education Services \n",
        "\n"
      ]
    },
    {
      "cell_type": "code",
      "metadata": {
        "id": "aOt-HPeeeNV5",
        "colab_type": "code",
        "colab": {}
      },
      "source": [
        "%matplotlib inline"
      ],
      "execution_count": 0,
      "outputs": []
    },
    {
      "cell_type": "code",
      "metadata": {
        "id": "RoXJ2TGoj93q",
        "colab_type": "code",
        "colab": {
          "base_uri": "https://localhost:8080/",
          "height": 35
        },
        "outputId": "71984629-ec5e-4155-84be-0a9e95d52d88"
      },
      "source": [
        "# Load gdrive\n",
        "from google.colab import drive\n",
        "drive.mount('/content/gdrive/')"
      ],
      "execution_count": 58,
      "outputs": [
        {
          "output_type": "stream",
          "text": [
            "Drive already mounted at /content/gdrive/; to attempt to forcibly remount, call drive.mount(\"/content/gdrive/\", force_remount=True).\n"
          ],
          "name": "stdout"
        }
      ]
    },
    {
      "cell_type": "code",
      "metadata": {
        "id": "Qu_BNqILquGD",
        "colab_type": "code",
        "colab": {}
      },
      "source": [
        "!pip install -q tika #install tika"
      ],
      "execution_count": 0,
      "outputs": []
    },
    {
      "cell_type": "code",
      "metadata": {
        "id": "fWcmqjWNpN6p",
        "colab_type": "code",
        "colab": {}
      },
      "source": [
        "from tika import parser\n",
        "\n",
        "# Test code for seeing how tika works.\n",
        "#raw = parser.from_file('/content/gdrive/My Drive/MSDS_422/OPNAV_Instructions/1000.16L With CH-2.pdf')\n",
        "# raw['content'] gives the raw text of the pdf\n",
        "#print(raw['content'])\n",
        "#raw.keys()\n",
        "#raw['metadata']['resourceName'] # Calls the file name - not metadata. not every file has metadata so don't rely on it."
      ],
      "execution_count": 0,
      "outputs": []
    },
    {
      "cell_type": "code",
      "metadata": {
        "id": "kD2Q8rZGvnV4",
        "colab_type": "code",
        "colab": {}
      },
      "source": [
        "import os\n",
        "\n",
        "# The indices for these are the same so they can be zipped later.\n",
        "# The .pdf filename is what is read, not the metadata, so whatever\n",
        "# the file is called in the folder is what it will be listed as\n",
        "# in the results.\n",
        "\n",
        "documents = [] # Contains raw text from all .pdfs.\n",
        "filenames = [] # Contains the filenames of the .pdfs\n",
        "\n",
        "# Parse all .pdf contents and their filenames.\n",
        "directory = '/content/gdrive/My Drive/MSDS_422/OPNAV_Instructions/'\n",
        "for file in os.listdir(directory):\n",
        "  temp = parser.from_file(directory+file)\n",
        "  documents.append(temp['content'])\n",
        "  filenames.append(temp['metadata']['resourceName'])"
      ],
      "execution_count": 0,
      "outputs": []
    },
    {
      "cell_type": "markdown",
      "metadata": {
        "id": "66RdSdPi9lvl",
        "colab_type": "text"
      },
      "source": [
        "### EDA and Data Cleaning"
      ]
    },
    {
      "cell_type": "markdown",
      "metadata": {
        "id": "E-VIDz859ODh",
        "colab_type": "text"
      },
      "source": [
        "Make everything in the document lowercase and remove stopwords. The stopwords list can be modified as needed, this one comes directly from the gensim documentation and is relatively standard."
      ]
    },
    {
      "cell_type": "code",
      "metadata": {
        "id": "STJ0daY4eNWT",
        "colab_type": "code",
        "colab": {}
      },
      "source": [
        "from collections import defaultdict\n",
        "from gensim import corpora\n",
        "\n",
        "# improved list from Stone, Denis, Kwantes (2010)\n",
        "STOPWORDS = \"\"\"\n",
        "a about above across after afterwards again against all almost alone along already also although always am among amongst amoungst amount an and another any anyhow anyone anything anyway anywhere are around as at back be\n",
        "became because become becomes becoming been before beforehand behind being below beside besides between beyond bill both bottom but by call can\n",
        "cannot cant co computer con could couldnt cry de describe\n",
        "detail did didn do does doesn doing don done down due during\n",
        "each eg eight either eleven else elsewhere empty enough etc even ever every everyone everything everywhere except few fifteen\n",
        "fify fill find fire first five for former formerly forty found four from front full further get give go\n",
        "had has hasnt have he hence her here hereafter hereby herein hereupon hers herself him himself his how however hundred i ie\n",
        "if in inc indeed interest into is it its itself keep last latter latterly least less ltd\n",
        "just\n",
        "kg km\n",
        "made make many may me meanwhile might mill mine more moreover most mostly move much must my myself name namely\n",
        "neither never nevertheless next nine no nobody none noone nor not nothing now nowhere of off\n",
        "often on once one only onto or other others otherwise our ours ourselves out over own part per\n",
        "perhaps please put rather re\n",
        "quite\n",
        "rather really regarding\n",
        "same say see seem seemed seeming seems serious several she should show side since sincere six sixty so some somehow someone something sometime sometimes somewhere still such system take ten\n",
        "than that the their them themselves then thence there thereafter thereby therefore therein thereupon these they thick thin third this those though three through throughout thru thus to together too top toward towards twelve twenty two un under\n",
        "until up unless upon us used using\n",
        "various very very via\n",
        "was we well were what whatever when whence whenever where whereafter whereas whereby wherein whereupon wherever whether which while whither who whoever whole whom whose why will with within without would yet you\n",
        "your yours yourself yourselves\n",
        "\"\"\"\n",
        "\n",
        "# remove common words and tokenize\n",
        "stoplist = set(STOPWORDS.split())\n",
        "texts = [\n",
        "    [word for word in document.lower().split() if word not in stoplist]\n",
        "    for document in documents\n",
        "]\n",
        "\n",
        "# remove words that appear only once\n",
        "frequency = defaultdict(int)\n",
        "for text in texts:\n",
        "    for token in text:\n",
        "        frequency[token] += 1\n",
        "\n",
        "texts = [\n",
        "    [token for token in text if frequency[token] > 1]\n",
        "    for text in texts\n",
        "]\n",
        "\n",
        "# Building the corpus.\n",
        "dictionary = corpora.Dictionary(texts)\n",
        "corpus = [dictionary.doc2bow(text) for text in texts]"
      ],
      "execution_count": 0,
      "outputs": []
    },
    {
      "cell_type": "markdown",
      "metadata": {
        "id": "SOQTYvds9tn6",
        "colab_type": "text"
      },
      "source": [
        "### Modeling"
      ]
    },
    {
      "cell_type": "markdown",
      "metadata": {
        "id": "1ReXI7pk83bp",
        "colab_type": "text"
      },
      "source": [
        "Build the model to measure similarity between documents. Here we will use Latent Semantic Analysis (LSI)"
      ]
    },
    {
      "cell_type": "code",
      "metadata": {
        "id": "klcmgU3PeNWc",
        "colab_type": "code",
        "colab": {}
      },
      "source": [
        "from gensim import models\n",
        "# LSI uses singular value decomposition - I think that\n",
        "# num_topics corresponds do the number of singular values\n",
        "# to use.\n",
        "# \"Indexing by Latent Semantic Analysis\" <http://www.cs.bham.ac.uk/~pxt/IDA/lsa_ind.pdf>\n",
        "# Latent Semantic Indexing <https://en.wikipedia.org/wiki/Latent_semantic_indexing>\n",
        "lsi = models.LsiModel(corpus, id2word=dictionary, num_topics=100)"
      ],
      "execution_count": 0,
      "outputs": []
    },
    {
      "cell_type": "markdown",
      "metadata": {
        "id": "cpXBeol5_GY4",
        "colab_type": "text"
      },
      "source": [
        "Now suppose a user typed in the query [whatever doc = 'user stuff']. We would like to sort the corpus documents in decreasing order of relevance to this query. Unlike modern search engines, here we only concentrate on a single aspect of possible similarities—on apparent semantic relatedness of their texts (words). No hyperlinks, no random-walk static ranks, just a semantic extension over the boolean keyword match:"
      ]
    },
    {
      "cell_type": "code",
      "metadata": {
        "id": "If35NwYmeNWl",
        "colab_type": "code",
        "colab": {
          "base_uri": "https://localhost:8080/",
          "height": 55
        },
        "outputId": "99866e83-7a00-45aa-ece0-c3d85ef338d1"
      },
      "source": [
        "# Here the 'doc' object is the user's search term.\n",
        "# vec_bow cleans the user's search term\n",
        "# vec_lsi is a list of tuples which are the similarities,\n",
        "\n",
        "# This is only the boolean similarity!\n",
        "# This is the same as doing Ctrl+F and counting\n",
        "# the number of hits.\n",
        "\n",
        "doc = \"personnel recovery\"\n",
        "\n",
        "\n",
        "vec_bow = dictionary.doc2bow(doc.lower().split())\n",
        "vec_lsi = lsi[vec_bow]  # convert the query to LSI space\n",
        "print(vec_lsi)"
      ],
      "execution_count": 72,
      "outputs": [
        {
          "output_type": "stream",
          "text": [
            "[(0, -0.013713959072796473), (1, 0.2024285724290296), (2, -0.05372699122833611), (3, 0.0845648569468504), (4, 0.006650192946701625), (5, 0.06435716867364291), (6, -0.017810813855787914), (7, 0.07809246379208735), (8, 0.020914464153183616), (9, -0.04360172752032436), (10, 0.029131633925782923), (11, 0.029582256269949894), (12, 0.04050317525986838), (13, -0.05770880198636202), (14, 0.03671056249646966), (15, 0.05463676156811324), (16, 0.00027852422945872935), (17, -0.011144916944591276), (18, -0.00796559642777531), (19, -0.007227705040453201), (20, -0.008182080718364713), (21, 0.18931805497119344), (22, 0.19190137497335943), (23, 0.12037824455248419), (24, -0.027031518500016803), (25, 0.08527406077895502), (26, -0.0816882638818058), (27, -0.04454863873906595), (28, -0.13615992548983594), (29, -0.024735572146978694), (30, 0.04324184238067171), (31, -0.008247487285190553), (32, 0.020263038606386348), (33, 0.04512507268797478), (34, -0.025537255113263588), (35, 0.03913739122147676), (36, 0.07793555962935092), (37, 0.17734113626953354), (38, 0.06963977440601893), (39, 0.08214115632061611), (40, -0.015013815728706801), (41, 0.07035581433808295), (42, -0.038835002493675164), (43, -0.023474286575647575), (44, -0.03610374372363777), (45, 0.054657398293714465), (46, 0.0487777525665064), (47, 0.023740815826541587), (48, -0.019206343061740058), (49, -0.10558689122859005), (50, 0.1935952458235437), (51, 0.05156254884318872), (52, 0.06874537530187146), (53, -0.0469065953650912), (54, -0.07738643367717635), (55, 0.053187023314721), (56, 0.004424433454376365), (57, -0.0022338117924679875), (58, 0.006419459488476536), (59, 0.09775916366047227), (60, 0.08131785333835292), (61, 0.07315388132816103), (62, -0.08305318216417755), (63, -0.09214497862696057), (64, -0.012986016995668303), (65, 0.03314698702594948), (66, -0.004254668426159931), (67, 0.11770612158203385), (68, -0.04917079840171877), (69, -0.06634725505163458), (70, -0.025824744375591367), (71, -0.030156630810809573), (72, 0.0158589130922734), (73, 0.011537782251669793), (74, 0.01745125549945446), (75, -0.008418008230639762), (76, 0.008263154386581949), (77, 0.04634478949175067), (78, -0.012338823292463996), (79, 0.0014565145476808355), (80, 0.004832657520964144), (81, 0.013753907026460264), (82, -0.0051501488379686435), (83, 0.04567510988786557), (84, 0.02282582279071215), (85, -0.05427709711792483), (86, -0.03028684122614275), (87, -0.06063918727919125), (88, 0.013117359863182378), (89, 0.005044419954815006), (90, -0.02852574347775591), (91, 0.012888435140802604), (92, -0.00040672057900770784), (93, -0.03226460617707033), (94, -0.04476649649944052), (95, 0.019664705218002045), (96, 0.015328976102346605), (97, 0.02450608068741593), (98, 0.03689221857683001), (99, 0.07103624384337712)]\n"
          ],
          "name": "stdout"
        }
      ]
    },
    {
      "cell_type": "markdown",
      "metadata": {
        "id": "LDc4LmyneNWp",
        "colab_type": "text"
      },
      "source": [
        "In addition, we will be considering `cosine similarity <http://en.wikipedia.org/wiki/Cosine_similarity>`_\n",
        "to determine the similarity of two vectors. Cosine similarity is a standard measure\n",
        "in Vector Space Modeling, but wherever the vectors represent probability distributions,\n",
        "`different similarity measures <http://en.wikipedia.org/wiki/Kullback%E2%80%93Leibler_divergence#Symmetrised_divergence>`_\n",
        "may be more appropriate.\n",
        "\n",
        "Initializing query structures\n",
        "++++++++++++++++++++++++++++++++\n",
        "\n",
        "To prepare for similarity queries, we need to enter all documents which we want\n",
        "to compare against subsequent queries.\n",
        "\n"
      ]
    },
    {
      "cell_type": "code",
      "metadata": {
        "id": "JxRponkfeNWr",
        "colab_type": "code",
        "colab": {
          "base_uri": "https://localhost:8080/",
          "height": 74
        },
        "outputId": "60ffdbf6-86f7-42a3-bbea-5bb1587e6fe3"
      },
      "source": [
        "from gensim import similarities\n",
        "index = similarities.MatrixSimilarity(lsi[corpus])  # transform corpus to LSI space and index it"
      ],
      "execution_count": 73,
      "outputs": [
        {
          "output_type": "stream",
          "text": [
            "/usr/local/lib/python3.6/dist-packages/gensim/matutils.py:737: FutureWarning: Conversion of the second argument of issubdtype from `int` to `np.signedinteger` is deprecated. In future, it will be treated as `np.int64 == np.dtype(int).type`.\n",
            "  if np.issubdtype(vec.dtype, np.int):\n"
          ],
          "name": "stderr"
        }
      ]
    },
    {
      "cell_type": "markdown",
      "metadata": {
        "id": "dQtEyMiCeNWx",
        "colab_type": "text"
      },
      "source": [
        "<div class=\"alert alert-danger\"><h4>Warning</h4><p>The class :class:`similarities.MatrixSimilarity` is only appropriate when the whole\n",
        "  set of vectors fits into memory. For example, a corpus of one million documents\n",
        "  would require 2GB of RAM in a 256-dimensional LSI space, when used with this class.\n",
        "\n",
        "  Without 2GB of free RAM, you would need to use the :class:`similarities.Similarity` class.\n",
        "  This class operates in fixed memory, by splitting the index across multiple files on disk, called shards.\n",
        "  It uses :class:`similarities.MatrixSimilarity` and :class:`similarities.SparseMatrixSimilarity` internally,\n",
        "  so it is still fast, although slightly more complex.</p></div>\n",
        "\n",
        "Index persistency is handled via the standard :func:`save` and :func:`load` functions:\n",
        "\n"
      ]
    },
    {
      "cell_type": "code",
      "metadata": {
        "id": "nApicIzleNWz",
        "colab_type": "code",
        "colab": {
          "base_uri": "https://localhost:8080/",
          "height": 74
        },
        "outputId": "7c02e20d-21ce-4665-ee31-d200dc4447e6"
      },
      "source": [
        "index.save('/tmp/deerwester.index')\n",
        "index = similarities.MatrixSimilarity.load('/tmp/deerwester.index')"
      ],
      "execution_count": 74,
      "outputs": [
        {
          "output_type": "stream",
          "text": [
            "/usr/local/lib/python3.6/dist-packages/smart_open/smart_open_lib.py:402: UserWarning: This function is deprecated, use smart_open.open instead. See the migration notes for details: https://github.com/RaRe-Technologies/smart_open/blob/master/README.rst#migrating-to-the-new-open-function\n",
            "  'See the migration notes for details: %s' % _MIGRATION_NOTES_URL\n"
          ],
          "name": "stderr"
        }
      ]
    },
    {
      "cell_type": "markdown",
      "metadata": {
        "id": "rZFOVo4veNW4",
        "colab_type": "text"
      },
      "source": [
        "This is true for all similarity indexing classes (:class:`similarities.Similarity`,\n",
        ":class:`similarities.MatrixSimilarity` and :class:`similarities.SparseMatrixSimilarity`).\n",
        "Also in the following, `index` can be an object of any of these. When in doubt,\n",
        "use :class:`similarities.Similarity`, as it is the most scalable version, and it also\n",
        "supports adding more documents to the index later.\n",
        "\n",
        "Performing queries\n",
        "++++++++++++++++++\n",
        "\n",
        "To obtain similarities of our query document against the nine indexed documents:\n",
        "\n"
      ]
    },
    {
      "cell_type": "code",
      "metadata": {
        "id": "gT5kGVeSeNW6",
        "colab_type": "code",
        "colab": {
          "base_uri": "https://localhost:8080/",
          "height": 55
        },
        "outputId": "9d98166d-9867-42f7-cead-aef620921931"
      },
      "source": [
        "# index is the similarity index, or what we are checking against (corpus in the lsi space)\n",
        "# vec_lsi is our query in the lsi space\n",
        "# the output is the similarity tuples\n",
        "\n",
        "sims = index[vec_lsi]\n",
        "\n",
        "similarity_list = list(zip(sims, filenames))\n",
        "#print(similarity_list)\n",
        "print(sorted(similarity_list, reverse = True))"
      ],
      "execution_count": 75,
      "outputs": [
        {
          "output_type": "stream",
          "text": [
            "[(0.53474784, '1640.9A.pdf'), (0.4640187, '3006.1 w CH-2.pdf'), (0.4238381, '1001.19D.pdf'), (0.3761509, '1414.4D.pdf'), (0.3660003, '1160.6C.pdf'), (0.36188006, '1000.24D.pdf'), (0.35457563, '1220.1E.pdf'), (0.33956644, '1070.2C.pdf'), (0.3228429, '3120.32D W CH-1.pdf'), (0.26242042, '1430.4C.pdf'), (0.2618715, '1520.36C.pdf'), (0.2552052, '3120.16C.pdf'), (0.25459012, '1330.2C.pdf'), (0.25389275, '1770.1B.pdf'), (0.24652676, '2221.5D.pdf'), (0.24579406, '1301.11.pdf'), (0.23478015, '1620.3.pdf'), (0.23458447, '3060.7C.pdf'), (0.22452052, '1520.39A.pdf'), (0.22212721, '1571.1B.pdf'), (0.2170622, '3130.7B.pdf'), (0.2122381, '1540.2F.pdf'), (0.21204665, '1500.85.pdf'), (0.20718022, '1754.4A.pdf'), (0.20310572, '1001.27.pdf'), (0.19834265, '2100.2A.pdf'), (0.19519977, '1306.4A.pdf'), (0.19471943, '1730.1E.pdf'), (0.19431277, '1220.2B.pdf'), (0.19288923, '1780.4.pdf'), (0.19110031, '1223.1D.pdf'), (0.19034609, '1320.6.pdf'), (0.18617517, '1000.16L With CH-2.pdf'), (0.18490621, '1770.3A.pdf'), (0.18365055, '1534.1E.pdf'), (0.18344764, '1420.1B OPNAV.pdf'), (0.17597978, '1710.10 w CH-1.pdf'), (0.17419685, '1100.5.pdf'), (0.17388898, '1752.3.pdf'), (0.16628703, '1500.77A.pdf'), (0.16123043, '2201.4.pdf'), (0.16020116, '1620.2A.pdf'), (0.15556636, '1412.11.pdf'), (0.1548703, '1700.1028.pdf'), (0.15469931, '1100.4C.pdf'), (0.1543184, '3104.3A.pdf'), (0.1543011, '1752.1C.pdf'), (0.15137239, '1520.41A.pdf'), (0.14868648, '1531.5E.pdf'), (0.14410545, '1650.8D.pdf'), (0.14305395, '1740.3D.pdf'), (0.14165613, '1820.1B.pdf'), (0.14151627, '1500.27G.pdf'), (0.14118837, '1510.10D.pdf'), (0.14054517, '3130.6E.pdf'), (0.13971418, '1738.1A.pdf'), (0.13641326, '1520.44.pdf'), (0.13463226, '1300.19A.pdf'), (0.13443147, '1210.2C.pdf'), (0.13427205, '1700.16B.pdf'), (0.13218263, '1500.64C.pdf'), (0.13212487, '1550.12A.pdf'), (0.13158646, '1001.20C.pdf'), (0.13011332, '1601.10D.pdf'), (0.12930489, '1160.8B.pdf'), (0.12841606, '3150.27C.pdf'), (0.12701572, '1754.7A OPNAV.pdf'), (0.1251314, '1650.30A CH-1.pdf'), (0.12384914, '1900.4A.pdf'), (0.12281761, '1300.20.pdf'), (0.12223418, '1120.12A.pdf'), (0.121669926, '3050.27.pdf'), (0.1208297, '1300.14D.pdf'), (0.12056781, '1001.26C.pdf'), (0.11982748, '3030.5C.pdf'), (0.11962544, '2060.8B.pdf'), (0.11932056, '3000.13D.pdf'), (0.117914945, '1542.7E.pdf'), (0.117899865, '1560.9A.pdf'), (0.11526732, '1900.2C.pdf'), (0.11498081, '1210.5B.pdf'), (0.114807494, '2880.1A.pdf'), (0.114300825, 'N3040.5E.pdf'), (0.114300825, 'C3501.121A.pdf'), (0.114300825, 'C3430.4D.pdf'), (0.114300825, 'C3128.3U.pdf'), (0.114300825, 'C3000.8N.pdf'), (0.114300825, 'C3000.5E.pdf'), (0.114300825, 'C1510.9H.pdf'), (0.1135346, '1120.3B.pdf'), (0.111870795, '1500.78.pdf'), (0.11014052, '1412.14.pdf'), (0.10999252, '1412.15.pdf'), (0.10945436, '1500.72G.pdf'), (0.10916261, '1650.30A.pdf'), (0.108700775, '1040.11D.pdf'), (0.1073436, '3104.1A.pdf'), (0.10535712, '1520.23C w CH-2.pdf'), (0.10284618, '1754.1B.pdf'), (0.09696667, '1601.7M.pdf'), (0.09672954, '1720.4B.pdf'), (0.096371464, '1000.26B.pdf'), (0.093761444, '1750.5A.pdf'), (0.09284241, '1541.5.pdf'), (0.09167515, '1742.1C.pdf'), (0.09071885, '1500.75D.pdf'), (0.08987726, '1542.4E.pdf'), (0.0878677, '1560.10D.pdf'), (0.0874068, '1524.2.pdf'), (0.08707507, '1120.13B.pdf'), (0.086935334, '1110.1B.pdf'), (0.08616094, '1740.6.pdf'), (0.085425116, '1414.9B.pdf'), (0.082003474, '1720.3G.pdf'), (0.08168614, '1500.22H.pdf'), (0.08165071, '1427.2A.pdf'), (0.08126017, '1306.2H w CH-1.pdf'), (0.0808557, '1500.83A.pdf'), (0.08060807, '1301.10C.pdf'), (0.08032933, '1752.2B.pdf'), (0.0785557, '1700.1164.pdf'), (0.07852949, '1120.9A OPNAV.pdf'), (0.078355454, '1700.17.pdf'), (0.07784359, '1500.47C.pdf'), (0.07650751, '1540.56B.pdf'), (0.076407984, '1700.10N.pdf'), (0.07629219, 'F3100.6J CH-3.pdf'), (0.07629219, 'F2300.44H.pdf'), (0.072407104, '1520.31D.pdf'), (0.072179765, '1500.76C.pdf'), (0.07131598, '1300.15B.pdf'), (0.07042718, '1700.13C CH-1.pdf'), (0.067802645, '3120.35L.pdf'), (0.06746499, '3100.8B.pdf'), (0.06735307, '2201.3B.pdf'), (0.06733973, '1710.9.pdf'), (0.06649388, '1500.82.pdf'), (0.06129764, '1650.32.pdf'), (0.061222494, '3050.25.pdf'), (0.059197575, '1160.9A.pdf'), (0.058933444, '3120.28D.pdf'), (0.058414947, '1306.3C.pdf'), (0.056822687, '1520.37B.pdf'), (0.056560613, '1520.42A CH-1.pdf'), (0.056530513, '1650.24D.pdf'), (0.05652321, '2400.20F.pdf'), (0.056424994, '1811.3A.pdf'), (0.05640792, '1542.5C.pdf'), (0.05572986, '3120.46A.pdf'), (0.055500064, '1650.25C.pdf'), (0.0545621, '3000.15A.pdf'), (0.05413745, '1640.8A.pdf'), (0.054114588, '3140.55C.pdf'), (0.054033697, '1750.3A.pdf'), (0.053964205, '1520.18J.pdf'), (0.052332193, '1754.5C.pdf'), (0.052028097, '1650.36.pdf'), (0.051167652, '1120.4C.pdf'), (0.051093787, '1740.4E.pdf'), (0.05039896, '1700.7E.pdf'), (0.050353087, '3000.16.pdf'), (0.050291006, '1120.8A.pdf'), (0.04893258, '1120.7A.pdf'), (0.048512593, '1531.2C.pdf'), (0.047050744, ['1710.4C.pdf', 'Press Quality(1).joboptions']), (0.04662475, '1120.10A.pdf'), (0.046559095, '3121.1E.pdf'), (0.045324408, '3100.7C.pdf'), (0.044377938, '1710.11.pdf'), (0.043820307, '1551.11B.pdf'), (0.04341861, '1650.31.pdf'), (0.042972557, '1700.9E CH-1.pdf'), (0.042135783, '1300.17B.pdf'), (0.041404456, '1550.13.pdf'), (0.040709086, '1740.5D.pdf'), (0.038671847, '3110.18U.pdf'), (0.038116176, '1300.18B.pdf'), (0.037466943, '3020.12.pdf'), (0.03614749, '1520.40B.pdf'), (0.03532073, '1530.8A.pdf'), (0.03278632, '3120.42C.pdf'), (0.03229203, '3111.17A.pdf'), (0.031042006, '1500.57C.pdf'), (0.030528434, '1520.24D.pdf'), (0.030334555, '1650.37A.pdf'), (0.029071614, '1754.8.pdf'), (0.027738888, '1500.49E.pdf'), (0.02716469, '1427.1B.pdf'), (0.027065493, '3000.12A.pdf'), (0.025587425, '1754.2F.pdf'), (0.023870409, '1650.26E.pdf'), (0.023298733, '1650.28B.pdf'), (0.023231613, '1650.35A.pdf'), (0.02268809, '1000.1N.pdf'), (0.022047319, '1531.6D.pdf'), (0.020132158, '1120.6.pdf'), (0.019005507, '1750.1G W CH-2.pdf'), (0.018677233, '1120.5B.pdf'), (0.018409017, '3128.10G.pdf'), (0.016648527, '1540.51E.pdf'), (0.015826905, '3120.33C.pdf'), (0.015483566, '1650.33A.pdf'), (0.012698773, '3050.26.pdf'), (0.010843728, '1520.38A.pdf'), (0.009103619, '1770.2B.pdf'), (0.007449776, '2630.2.pdf'), (0.004947584, '1710.7A.pdf'), (0.0029130448, '1530.4033.pdf'), (0.0027467832, '3128.9F.pdf'), (0.0022096056, '3140.24G.pdf'), (0.00085659325, '3090.1A.pdf'), (-2.3931265e-05, '3110.11U.pdf'), (-0.0015889108, '1120.11A.pdf'), (-0.002163725, '1530.4035.pdf'), (-0.0071670674, '1500.84.pdf'), (-0.008446649, '1520.43B.pdf'), (-0.014104873, '3120.47.pdf')]\n"
          ],
          "name": "stdout"
        }
      ]
    },
    {
      "cell_type": "markdown",
      "metadata": {
        "id": "mdjxZrxHFLwN",
        "colab_type": "text"
      },
      "source": [
        "### Conclusion"
      ]
    },
    {
      "cell_type": "markdown",
      "metadata": {
        "id": "cv4x7xuEFNkw",
        "colab_type": "text"
      },
      "source": [
        "This model could be very useful in production. There is a huge corpus of instructions that USN personnel have to sort through in order to get information - an easy way to query this corpus to find relevant instructions given a topic would save everyone time and energy. There is no objective metric with which to measure 'accuracy' but the searches have consistently returned sane and sensible results during operator testing."
      ]
    }
  ]
}
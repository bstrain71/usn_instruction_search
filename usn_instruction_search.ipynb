{
  "nbformat": 4,
  "nbformat_minor": 0,
  "metadata": {
    "kernelspec": {
      "display_name": "Python 3",
      "language": "python",
      "name": "python3"
    },
    "language_info": {
      "codemirror_mode": {
        "name": "ipython",
        "version": 3
      },
      "file_extension": ".py",
      "mimetype": "text/x-python",
      "name": "python",
      "nbconvert_exporter": "python",
      "pygments_lexer": "ipython3",
      "version": "3.6.5"
    },
    "colab": {
      "name": "usn_instruction_search.ipynb",
      "provenance": [],
      "toc_visible": true,
      "include_colab_link": true
    }
  },
  "cells": [
    {
      "cell_type": "markdown",
      "metadata": {
        "id": "view-in-github",
        "colab_type": "text"
      },
      "source": [
        "<a href=\"https://colab.research.google.com/github/bstrain71/usn_instruction_search/blob/master/usn_instruction_search.ipynb\" target=\"_parent\"><img src=\"https://colab.research.google.com/assets/colab-badge.svg\" alt=\"Open In Colab\"/></a>"
      ]
    },
    {
      "cell_type": "markdown",
      "metadata": {
        "id": "T_LG-8eNj7CV",
        "colab_type": "text"
      },
      "source": [
        "### INGEST"
      ]
    },
    {
      "cell_type": "markdown",
      "metadata": {
        "id": "GqstC-ucG4bd",
        "colab_type": "text"
      },
      "source": [
        "OPNAV Instructions: https://www.secnav.navy.mil/doni/opnav.aspx?RootFolder=%2Fdoni%2FDirectives%2F01000%20Military%20Personnel%20Support&FolderCTID=0x012000E8AF0DD9490E0547A7DE7CF736393D04&View=%7BCACF3AEF%2DAED4%2D433A%2D8CE5%2DA45245715B5C%7D\n",
        "\n",
        "Note: This example only contains series 01-01 through 01-500 as it is just for demonstration. Here is a key to their topics:\n",
        "\n",
        " \n",
        "01-01 General Military Personnel Records\n",
        "\n",
        "01-100 General Recruiting Records \n",
        "\n",
        "01-200 Personnel Classification and Designation \n",
        "\n",
        "01-300 Assignment and Distribution Services  \n",
        "\n",
        "01-400 Promotion and Advancement Programs \n",
        "\n",
        "01-500 Military Training and Education Services \n",
        "\n"
      ]
    },
    {
      "cell_type": "code",
      "metadata": {
        "id": "aOt-HPeeeNV5",
        "colab_type": "code",
        "colab": {}
      },
      "source": [
        "%matplotlib inline"
      ],
      "execution_count": 0,
      "outputs": []
    },
    {
      "cell_type": "code",
      "metadata": {
        "id": "RoXJ2TGoj93q",
        "colab_type": "code",
        "outputId": "56fcfc2c-f367-466f-bf60-13acba27675e",
        "colab": {
          "base_uri": "https://localhost:8080/",
          "height": 35
        }
      },
      "source": [
        "# Load gdrive\n",
        "from google.colab import drive\n",
        "drive.mount('/content/gdrive/')"
      ],
      "execution_count": 2,
      "outputs": [
        {
          "output_type": "stream",
          "text": [
            "Drive already mounted at /content/gdrive/; to attempt to forcibly remount, call drive.mount(\"/content/gdrive/\", force_remount=True).\n"
          ],
          "name": "stdout"
        }
      ]
    },
    {
      "cell_type": "code",
      "metadata": {
        "id": "Qu_BNqILquGD",
        "colab_type": "code",
        "colab": {}
      },
      "source": [
        "!pip install -q tika #install tika"
      ],
      "execution_count": 0,
      "outputs": []
    },
    {
      "cell_type": "code",
      "metadata": {
        "id": "fWcmqjWNpN6p",
        "colab_type": "code",
        "colab": {
          "base_uri": "https://localhost:8080/",
          "height": 35
        },
        "outputId": "93932f08-5fcb-436d-8142-2025b86f63ab"
      },
      "source": [
        "from tika import parser\n",
        "\n",
        "# Test code for seeing how tika works.\n",
        "raw = parser.from_file('/content/gdrive/My Drive/MSDS_422/OPNAV_Instructions/1160.8B.pdf')\n",
        "# raw['content'] gives the raw text of the pdf\n",
        "#print(raw['content'])\n",
        "raw.keys()\n",
        "#raw['metadata']['resourceName'] # Calls the file name - not metadata. not every file has metadata so don't rely on it."
      ],
      "execution_count": 12,
      "outputs": [
        {
          "output_type": "execute_result",
          "data": {
            "text/plain": [
              "dict_keys(['status', 'content', 'metadata'])"
            ]
          },
          "metadata": {
            "tags": []
          },
          "execution_count": 12
        }
      ]
    },
    {
      "cell_type": "code",
      "metadata": {
        "id": "kD2Q8rZGvnV4",
        "colab_type": "code",
        "outputId": "80a0550b-1120-4875-f5d8-59f91d94ab63",
        "colab": {
          "base_uri": "https://localhost:8080/",
          "height": 54
        }
      },
      "source": [
        "import os\n",
        "#from datetime import datetime\n",
        "\n",
        "# Measure the time it takes to append\n",
        "# all of the documents. If this ends\n",
        "# up taking too long find a way to\n",
        "# optimize it.\n",
        "#start=datetime.now()\n",
        "\n",
        "# The indices for these are the same so they can be zipped later.\n",
        "# The .pdf filename is what is read, not the metadata, so whatever\n",
        "# the file is called in the folder is what it will be listed as\n",
        "# in the results.\n",
        "\n",
        "documents = [] # Contains raw text from all .pdfs.\n",
        "filenames = [] # Contains the filenames of the .pdfs\n",
        "\n",
        "# Parse all .pdf contents and their filenames.\n",
        "directory = '/content/gdrive/My Drive/MSDS_422/OPNAV_Instructions/'\n",
        "for file in os.listdir(directory):\n",
        "  temp = parser.from_file(directory+file)\n",
        "  documents.append(temp['content'])\n",
        "  filenames.append(temp['metadata']['resourceName'])\n",
        "\n",
        "#end=datetime.now()\n",
        "#print(end-start)\n",
        "print(len(filenames))\n",
        "print(len(documents))"
      ],
      "execution_count": 13,
      "outputs": [
        {
          "output_type": "stream",
          "text": [
            "165\n",
            "165\n"
          ],
          "name": "stdout"
        }
      ]
    },
    {
      "cell_type": "markdown",
      "metadata": {
        "id": "66RdSdPi9lvl",
        "colab_type": "text"
      },
      "source": [
        "### EDA and Data Cleaning"
      ]
    },
    {
      "cell_type": "markdown",
      "metadata": {
        "id": "E-VIDz859ODh",
        "colab_type": "text"
      },
      "source": [
        "Make everything in the document lowercase and remove stopwords. The stopwords list can be modified as needed, this one comes directly from the gensim documentation and is relatively standard."
      ]
    },
    {
      "cell_type": "code",
      "metadata": {
        "id": "STJ0daY4eNWT",
        "colab_type": "code",
        "colab": {}
      },
      "source": [
        "from collections import defaultdict\n",
        "from gensim import corpora\n",
        "\n",
        "# improved list from Stone, Denis, Kwantes (2010)\n",
        "STOPWORDS = \"\"\"\n",
        "a about above across after afterwards again against all almost alone along already also although always am among amongst amoungst amount an and another any anyhow anyone anything anyway anywhere are around as at back be\n",
        "became because become becomes becoming been before beforehand behind being below beside besides between beyond bill both bottom but by call can\n",
        "cannot cant co computer con could couldnt cry de describe\n",
        "detail did didn do does doesn doing don done down due during\n",
        "each eg eight either eleven else elsewhere empty enough etc even ever every everyone everything everywhere except few fifteen\n",
        "fify fill find fire first five for former formerly forty found four from front full further get give go\n",
        "had has hasnt have he hence her here hereafter hereby herein hereupon hers herself him himself his how however hundred i ie\n",
        "if in inc indeed interest into is it its itself keep last latter latterly least less ltd\n",
        "just\n",
        "kg km\n",
        "made make many may me meanwhile might mill mine more moreover most mostly move much must my myself name namely\n",
        "neither never nevertheless next nine no nobody none noone nor not nothing now nowhere of off\n",
        "often on once one only onto or other others otherwise our ours ourselves out over own part per\n",
        "perhaps please put rather re\n",
        "quite\n",
        "rather really regarding\n",
        "same say see seem seemed seeming seems serious several she should show side since sincere six sixty so some somehow someone something sometime sometimes somewhere still such system take ten\n",
        "than that the their them themselves then thence there thereafter thereby therefore therein thereupon these they thick thin third this those though three through throughout thru thus to together too top toward towards twelve twenty two un under\n",
        "until up unless upon us used using\n",
        "various very very via\n",
        "was we well were what whatever when whence whenever where whereafter whereas whereby wherein whereupon wherever whether which while whither who whoever whole whom whose why will with within without would yet you\n",
        "your yours yourself yourselves\n",
        "\"\"\"\n",
        "\n",
        "# remove common words and tokenize\n",
        "stoplist = set(STOPWORDS.split())\n",
        "texts = [\n",
        "    [word for word in document.lower().split() if word not in stoplist]\n",
        "    for document in documents\n",
        "]\n",
        "\n",
        "# remove words that appear only once\n",
        "frequency = defaultdict(int)\n",
        "for text in texts:\n",
        "    for token in text:\n",
        "        frequency[token] += 1\n",
        "\n",
        "texts = [\n",
        "    [token for token in text if frequency[token] > 1]\n",
        "    for text in texts\n",
        "]\n",
        "\n",
        "# Building the corpus.\n",
        "dictionary = corpora.Dictionary(texts)\n",
        "corpus = [dictionary.doc2bow(text) for text in texts]"
      ],
      "execution_count": 0,
      "outputs": []
    },
    {
      "cell_type": "markdown",
      "metadata": {
        "id": "SOQTYvds9tn6",
        "colab_type": "text"
      },
      "source": [
        "### Modeling"
      ]
    },
    {
      "cell_type": "markdown",
      "metadata": {
        "id": "1ReXI7pk83bp",
        "colab_type": "text"
      },
      "source": [
        "Build the model to measure similarity between documents. Here we will use Latent Semantic Analysis (LSI)"
      ]
    },
    {
      "cell_type": "code",
      "metadata": {
        "id": "klcmgU3PeNWc",
        "colab_type": "code",
        "colab": {}
      },
      "source": [
        "from gensim import models\n",
        "\n",
        "\n",
        "# \"Indexing by Latent Semantic Analysis\" <http://www.cs.bham.ac.uk/~pxt/IDA/lsa_ind.pdf>\n",
        "# Latent Semantic Indexing <https://en.wikipedia.org/wiki/Latent_semantic_indexing>\n",
        "\n",
        "\n",
        "# change num_topics to change singular values\n",
        "lsi = models.LsiModel(corpus, id2word=dictionary, num_topics=100)"
      ],
      "execution_count": 0,
      "outputs": []
    },
    {
      "cell_type": "markdown",
      "metadata": {
        "id": "cpXBeol5_GY4",
        "colab_type": "text"
      },
      "source": [
        "Now suppose a user typed in the query [whatever doc = 'user stuff']. We would like to sort the corpus documents in decreasing order of relevance to this query. Unlike modern search engines, here we only concentrate on a single aspect of possible similarities—on apparent semantic relatedness of their texts (words). No hyperlinks, no random-walk static ranks, just a semantic extension over the boolean keyword match:"
      ]
    },
    {
      "cell_type": "code",
      "metadata": {
        "id": "If35NwYmeNWl",
        "colab_type": "code",
        "colab": {}
      },
      "source": [
        "# Here the 'doc' object is the user's search term.\n",
        "# vec_bow cleans the user's search term\n",
        "# vec_lsi is a list of tuples which are the similarities,\n",
        "\n",
        "# This is only the boolean similarity!\n",
        "# This is the same as doing Ctrl+F and counting\n",
        "# the number of hits.\n",
        "\n",
        "doc1 = \"gmt\"\n",
        "vec_bow1 = dictionary.doc2bow(doc1.lower().split())\n",
        "vec_lsi1 = lsi[vec_bow1]  # convert the query to LSI space\n",
        "\n",
        "doc2 = \"lateral transfer\"\n",
        "vec_bow2 = dictionary.doc2bow(doc2.lower().split())\n",
        "vec_lsi2 = lsi[vec_bow2]  # convert the query to LSI space\n",
        "\n",
        "doc3 = \"warfare pin\"\n",
        "vec_bow3 = dictionary.doc2bow(doc3.lower().split())\n",
        "vec_lsi3 = lsi[vec_bow3]  # convert the query to LSI space\n",
        "\n",
        "doc4 = \"ldo package\"\n",
        "vec_bow4 = dictionary.doc2bow(doc4.lower().split())\n",
        "vec_lsi4 = lsi[vec_bow4]  # convert the query to LSI space\n",
        "\n",
        "doc5 = \"career intermission program\"\n",
        "vec_bow5 = dictionary.doc2bow(doc5.lower().split())\n",
        "vec_lsi5 = lsi[vec_bow5]  # convert the query to LSI space"
      ],
      "execution_count": 0,
      "outputs": []
    },
    {
      "cell_type": "markdown",
      "metadata": {
        "id": "LDc4LmyneNWp",
        "colab_type": "text"
      },
      "source": [
        "In addition, we will be considering `cosine similarity <http://en.wikipedia.org/wiki/Cosine_similarity>`_\n",
        "to determine the similarity of two vectors. Cosine similarity is a standard measure\n",
        "in Vector Space Modeling, but wherever the vectors represent probability distributions,\n",
        "`different similarity measures <http://en.wikipedia.org/wiki/Kullback%E2%80%93Leibler_divergence#Symmetrised_divergence>`_\n",
        "may be more appropriate.\n",
        "\n",
        "Initializing query structures\n",
        "++++++++++++++++++++++++++++++++\n",
        "\n",
        "To prepare for similarity queries, we need to enter all documents which we want\n",
        "to compare against subsequent queries.\n",
        "\n"
      ]
    },
    {
      "cell_type": "code",
      "metadata": {
        "id": "JxRponkfeNWr",
        "colab_type": "code",
        "colab": {
          "base_uri": "https://localhost:8080/",
          "height": 74
        },
        "outputId": "3922e549-88fc-4b5f-c7fd-e603a64f0701"
      },
      "source": [
        "from gensim import similarities\n",
        "index = similarities.MatrixSimilarity(lsi[corpus])  # transform corpus to LSI space and index it"
      ],
      "execution_count": 47,
      "outputs": [
        {
          "output_type": "stream",
          "text": [
            "/usr/local/lib/python3.6/dist-packages/gensim/matutils.py:737: FutureWarning: Conversion of the second argument of issubdtype from `int` to `np.signedinteger` is deprecated. In future, it will be treated as `np.int64 == np.dtype(int).type`.\n",
            "  if np.issubdtype(vec.dtype, np.int):\n"
          ],
          "name": "stderr"
        }
      ]
    },
    {
      "cell_type": "markdown",
      "metadata": {
        "id": "dQtEyMiCeNWx",
        "colab_type": "text"
      },
      "source": [
        "<div class=\"alert alert-danger\"><h4>Warning</h4><p>The class :class:`similarities.MatrixSimilarity` is only appropriate when the whole\n",
        "  set of vectors fits into memory. For example, a corpus of one million documents\n",
        "  would require 2GB of RAM in a 256-dimensional LSI space, when used with this class.\n",
        "\n",
        "  Without 2GB of free RAM, you would need to use the :class:`similarities.Similarity` class.\n",
        "  This class operates in fixed memory, by splitting the index across multiple files on disk, called shards.\n",
        "  It uses :class:`similarities.MatrixSimilarity` and :class:`similarities.SparseMatrixSimilarity` internally,\n",
        "  so it is still fast, although slightly more complex.</p></div>\n",
        "\n",
        "Index persistency is handled via the standard :func:`save` and :func:`load` functions:\n",
        "\n"
      ]
    },
    {
      "cell_type": "code",
      "metadata": {
        "id": "nApicIzleNWz",
        "colab_type": "code",
        "colab": {
          "base_uri": "https://localhost:8080/",
          "height": 74
        },
        "outputId": "9bb1eda8-1eea-4f94-b8cf-57e2e84e0dbd"
      },
      "source": [
        "index.save('/tmp/deerwester.index')\n",
        "index = similarities.MatrixSimilarity.load('/tmp/deerwester.index')"
      ],
      "execution_count": 48,
      "outputs": [
        {
          "output_type": "stream",
          "text": [
            "/usr/local/lib/python3.6/dist-packages/smart_open/smart_open_lib.py:402: UserWarning: This function is deprecated, use smart_open.open instead. See the migration notes for details: https://github.com/RaRe-Technologies/smart_open/blob/master/README.rst#migrating-to-the-new-open-function\n",
            "  'See the migration notes for details: %s' % _MIGRATION_NOTES_URL\n"
          ],
          "name": "stderr"
        }
      ]
    },
    {
      "cell_type": "markdown",
      "metadata": {
        "id": "rZFOVo4veNW4",
        "colab_type": "text"
      },
      "source": [
        "This is true for all similarity indexing classes (:class:`similarities.Similarity`,\n",
        ":class:`similarities.MatrixSimilarity` and :class:`similarities.SparseMatrixSimilarity`).\n",
        "Also in the following, `index` can be an object of any of these. When in doubt,\n",
        "use :class:`similarities.Similarity`, as it is the most scalable version, and it also\n",
        "supports adding more documents to the index later.\n",
        "\n",
        "Performing queries\n",
        "++++++++++++++++++\n",
        "\n",
        "To obtain similarities of our query document against the nine indexed documents:\n",
        "\n"
      ]
    },
    {
      "cell_type": "code",
      "metadata": {
        "id": "gT5kGVeSeNW6",
        "colab_type": "code",
        "colab": {
          "base_uri": "https://localhost:8080/",
          "height": 222
        },
        "outputId": "20b3dfd4-de6d-423c-b596-3e429852351a"
      },
      "source": [
        "# index is the similarity index, or what we are checking against (corpus in the lsi space)\n",
        "# vec_lsi is our query in the lsi space\n",
        "# the output is the similarity tuples\n",
        "\n",
        "sims1 = index[vec_lsi1]\n",
        "similarity_list1 = list(zip(sims1, filenames))\n",
        "#print(similarity_list)\n",
        "print(doc1)\n",
        "print(sorted(similarity_list1, reverse = True))\n",
        "\n",
        "sims2 = index[vec_lsi2]\n",
        "similarity_list2 = list(zip(sims2, filenames))\n",
        "#print(similarity_list)\n",
        "print(doc2)\n",
        "print(sorted(similarity_list2, reverse = True))\n",
        "\n",
        "sims3 = index[vec_lsi3]\n",
        "similarity_list3 = list(zip(sims3, filenames))\n",
        "#print(similarity_list)\n",
        "print(doc3)\n",
        "print(sorted(similarity_list3, reverse = True))\n",
        "\n",
        "sims4 = index[vec_lsi4]\n",
        "similarity_list4 = list(zip(sims4, filenames))\n",
        "#print(similarity_list)\n",
        "print(doc4)\n",
        "print(sorted(similarity_list4, reverse = True))\n",
        "\n",
        "sims5 = index[vec_lsi5]\n",
        "similarity_list5 = list(zip(sims5, filenames))\n",
        "#print(similarity_list)\n",
        "print(doc5)\n",
        "print(sorted(similarity_list5, reverse = True))"
      ],
      "execution_count": 49,
      "outputs": [
        {
          "output_type": "stream",
          "text": [
            "gmt\n",
            "[(0.41427985, '1500.22H.pdf'), (0.34469885, '1700.16B.pdf'), (0.28215128, '1650.35A.pdf'), (0.26691204, '1650.24D.pdf'), (0.24847959, '1520.43B.pdf'), (0.24369234, '1531.6D.pdf'), (0.23602673, '1520.42A CH-1.pdf'), (0.23544645, '1520.38A.pdf'), (0.21633464, '1070.2C.pdf'), (0.21162046, '1120.13B.pdf'), (0.20615228, '1531.2C.pdf'), (0.20241559, '1700.13C CH-1.pdf'), (0.19610748, '1650.25C.pdf'), (0.19495277, '1000.1N.pdf'), (0.1946071, '1700.1164.pdf'), (0.19320172, '1650.36.pdf'), (0.1854843, '1542.7E.pdf'), (0.18440205, '1541.5.pdf'), (0.18313679, '1520.44.pdf'), (0.17446479, '1306.4A.pdf'), (0.16459817, '1300.18B.pdf'), (0.15844858, '1738.1A.pdf'), (0.15579681, '1160.6C.pdf'), (0.15559986, '1650.33A.pdf'), (0.15123741, '1120.3B.pdf'), (0.15030287, '1754.4A.pdf'), (0.14931083, '1754.7A OPNAV.pdf'), (0.14310408, '1770.2B.pdf'), (0.13924798, '1520.18J.pdf'), (0.12545127, '1110.1B.pdf'), (0.12274447, '1754.8.pdf'), (0.12038446, '1220.2B.pdf'), (0.11949172, '1430.4C.pdf'), (0.1186976, '1500.77A.pdf'), (0.11742364, '1500.85.pdf'), (0.11365363, '1650.37A.pdf'), (0.11316757, '1740.6.pdf'), (0.11270128, '1752.3.pdf'), (0.111692645, '1650.31.pdf'), (0.10542865, '1001.19D.pdf'), (0.104452625, '1500.84.pdf'), (0.10412198, '1510.10D.pdf'), (0.101725444, '1650.30A CH-1.pdf'), (0.093988575, '1500.49E.pdf'), (0.08739987, '1300.19A.pdf'), (0.08662386, '1412.14.pdf'), (0.08521354, '1520.31D.pdf'), (0.082150064, '1650.32.pdf'), (0.07958594, '1650.30A.pdf'), (0.07711056, '1301.11.pdf'), (0.07446222, '1601.7M.pdf'), (0.07038206, '1780.4.pdf'), (0.0672923, '1700.1028.pdf'), (0.065015465, '1720.4B.pdf'), (0.06373811, '1620.3.pdf'), (0.06239928, '1412.15.pdf'), (0.061969563, '1730.1E.pdf'), (0.061691042, '1524.2.pdf'), (0.058161587, '1120.5B.pdf'), (0.057371244, '1540.51E.pdf'), (0.05424672, '1500.64C.pdf'), (0.053714793, '1414.9B.pdf'), (0.04962681, '1500.78.pdf'), (0.049325954, '1520.39A.pdf'), (0.047631245, '1560.10D.pdf'), (0.045909837, '1001.26C.pdf'), (0.045061477, '1427.2A.pdf'), (0.044902418, '1120.11A.pdf'), (0.03757063, '1640.8A.pdf'), (0.037455335, '1740.3D.pdf'), (0.0358368, '1300.17B.pdf'), (0.03281156, '1500.47C.pdf'), (0.03144255, '1750.3A.pdf'), (0.025014259, '1530.8A.pdf'), (0.023077752, '1500.75D.pdf'), (0.022568263, '1770.3A.pdf'), (0.021637525, '1040.11D.pdf'), (0.021468677, '1500.27G.pdf'), (0.02138839, '1742.1C.pdf'), (0.01875629, '1000.26B.pdf'), (0.018748198, '1754.5C.pdf'), (0.0150426105, '1752.1C.pdf'), (0.014914382, '1530.4033.pdf'), (0.014562669, '1740.5D.pdf'), (0.01431202, '1520.37B.pdf'), (0.014285536, '1550.12A.pdf'), (0.013266813, '1531.5E.pdf'), (0.0128421355, '1752.2B.pdf'), (0.009941597, '1540.56B.pdf'), (0.009762306, '1811.3A.pdf'), (0.008623129, '1900.2C.pdf'), (0.008247973, '1540.2F.pdf'), (0.007010961, '1500.83A.pdf'), (0.0059673656, '1160.9A.pdf'), (0.0057636537, '1412.11.pdf'), (0.00509799, '1820.1B.pdf'), (0.004853075, '1520.24D.pdf'), (0.0043899044, '1710.10 w CH-1.pdf'), (0.003415838, '1534.1E.pdf'), (0.0027148225, '1300.15B.pdf'), (0.0024350067, '1650.28B.pdf'), (0.0023976006, '1000.24D.pdf'), (0.0023715384, '1550.13.pdf'), (0.0018415432, '1620.2A.pdf'), (0.0010767907, '1500.76C.pdf'), (0.000472805, ['1710.4C.pdf', 'Press Quality(1).joboptions']), (0.00023425138, '1100.4C.pdf'), (2.3022061e-05, '1420.1B OPNAV.pdf'), (-0.00015478977, '1710.7A.pdf'), (-0.00015961844, '1750.1G W CH-2.pdf'), (-0.0001801867, '1001.20C.pdf'), (-0.00018216809, '1700.9E CH-1.pdf'), (-0.0004274299, '1000.16L With CH-2.pdf'), (-0.00081521645, '1750.5A.pdf'), (-0.001004424, '1320.6.pdf'), (-0.0015980694, '1710.11.pdf'), (-0.0016465522, '1160.8B.pdf'), (-0.0023521436, '1500.82.pdf'), (-0.0025672168, '1427.1B.pdf'), (-0.0029458962, '1754.1B.pdf'), (-0.0031913696, '1640.9A.pdf'), (-0.0039190007, '1520.40B.pdf'), (-0.0046688514, '1520.23C w CH-2.pdf'), (-0.0046751834, '1001.27.pdf'), (-0.0047133584, '1500.57C.pdf'), (-0.0071678376, '1700.10N.pdf'), (-0.0076019093, '1220.1E.pdf'), (-0.0077489056, '1551.11B.pdf'), (-0.0083486065, '1223.1D.pdf'), (-0.009115059, '1100.5.pdf'), (-0.00980776, '1306.2H w CH-1.pdf'), (-0.010266299, '1740.4E.pdf'), (-0.012889046, '1720.3G.pdf'), (-0.013732072, '1500.72G.pdf'), (-0.015451298, '1120.6.pdf'), (-0.016169015, '1300.20.pdf'), (-0.016944364, '1710.9.pdf'), (-0.017159622, '1330.2C.pdf'), (-0.017535314, '1754.2F.pdf'), (-0.017745916, '1120.10A.pdf'), (-0.017827062, '1301.10C.pdf'), (-0.020257397, '1650.26E.pdf'), (-0.0214439, '1306.3C.pdf'), (-0.023826, '1210.2C.pdf'), (-0.02424298, '1120.8A.pdf'), (-0.024418276, '1120.9A OPNAV.pdf'), (-0.024487197, '1120.4C.pdf'), (-0.026998047, '1530.4035.pdf'), (-0.029335989, '1650.8D.pdf'), (-0.035193264, '1520.36C.pdf'), (-0.03850764, '1542.4E.pdf'), (-0.040413283, '1210.5B.pdf'), (-0.04054948, '1900.4A.pdf'), (-0.045636095, '1300.14D.pdf'), (-0.05903175, '1120.12A.pdf'), (-0.062778965, '1120.7A.pdf'), (-0.063431874, '1571.1B.pdf'), (-0.06416085, '1542.5C.pdf'), (-0.068347156, '1560.9A.pdf'), (-0.08176009, '1700.17.pdf'), (-0.09237228, '1700.7E.pdf'), (-0.09641355, '1601.10D.pdf'), (-0.1256318, '1520.41A.pdf'), (-0.13167681, '1414.4D.pdf'), (-0.256999, '1770.1B.pdf')]\n",
            "lateral transfer\n",
            "[(0.6238486, '1210.5B.pdf'), (0.307545, '1780.4.pdf'), (0.28148478, '1811.3A.pdf'), (0.2310329, '1301.10C.pdf'), (0.22768009, '1427.2A.pdf'), (0.21432543, '1650.33A.pdf'), (0.21110997, '1000.1N.pdf'), (0.2009816, '1120.10A.pdf'), (0.19776526, '1412.11.pdf'), (0.19405161, '1412.14.pdf'), (0.19220869, '1770.2B.pdf'), (0.18035498, '1820.1B.pdf'), (0.17819113, '1120.13B.pdf'), (0.16814412, '1754.4A.pdf'), (0.15886348, '1070.2C.pdf'), (0.14401606, '1300.18B.pdf'), (0.13601553, '1120.6.pdf'), (0.12805736, '1770.1B.pdf'), (0.12230981, '1500.78.pdf'), (0.11900715, '1300.14D.pdf'), (0.11325372, '1300.19A.pdf'), (0.1035506, '1520.18J.pdf'), (0.10262732, '1520.31D.pdf'), (0.10204092, '1120.5B.pdf'), (0.09655247, '1301.11.pdf'), (0.093726605, '1500.49E.pdf'), (0.09327289, '1414.9B.pdf'), (0.09203256, '1120.11A.pdf'), (0.08982092, '1650.25C.pdf'), (0.08957825, '1220.2B.pdf'), (0.08781045, '1700.16B.pdf'), (0.08224241, '1001.19D.pdf'), (0.074416, '1541.5.pdf'), (0.0738663, '1531.5E.pdf'), (0.07030052, '1710.10 w CH-1.pdf'), (0.06952491, '1510.10D.pdf'), (0.062107526, '1500.76C.pdf'), (0.061407916, '1120.9A OPNAV.pdf'), (0.05692195, '1770.3A.pdf'), (0.05613734, '1160.8B.pdf'), (0.054366127, '1420.1B OPNAV.pdf'), (0.054281026, '1412.15.pdf'), (0.053858202, '1531.2C.pdf'), (0.053202167, '1120.8A.pdf'), (0.051401295, '1520.39A.pdf'), (0.049341924, '1700.1028.pdf'), (0.04716345, '1752.1C.pdf'), (0.046912357, '1520.43B.pdf'), (0.044654496, '1330.2C.pdf'), (0.040042512, '1542.7E.pdf'), (0.039235428, '1560.10D.pdf'), (0.033734225, '1500.47C.pdf'), (0.033211734, '1520.40B.pdf'), (0.033201322, '1120.4C.pdf'), (0.031235907, '1650.36.pdf'), (0.030199505, '1560.9A.pdf'), (0.03007536, '1500.22H.pdf'), (0.029466983, '1700.17.pdf'), (0.02795346, '1740.6.pdf'), (0.023888815, '1300.20.pdf'), (0.023408055, '1500.64C.pdf'), (0.021776207, '1520.24D.pdf'), (0.021603078, '1306.2H w CH-1.pdf'), (0.021386147, '1001.26C.pdf'), (0.021270026, '1752.2B.pdf'), (0.020081032, '1740.3D.pdf'), (0.020064961, '1710.9.pdf'), (0.01924131, '1210.2C.pdf'), (0.019024687, '1500.57C.pdf'), (0.018541338, '1534.1E.pdf'), (0.017916042, '1306.3C.pdf'), (0.01772134, '1650.35A.pdf'), (0.01767355, '1300.15B.pdf'), (0.016863361, '1551.11B.pdf'), (0.016486544, '1500.85.pdf'), (0.016210632, '1040.11D.pdf'), (0.015613485, '1752.3.pdf'), (0.015033344, '1750.1G W CH-2.pdf'), (0.014488451, '1650.37A.pdf'), (0.01389452, '1220.1E.pdf'), (0.013525125, '1000.26B.pdf'), (0.012532924, '1500.27G.pdf'), (0.012136867, '1530.4035.pdf'), (0.012090069, '1520.23C w CH-2.pdf'), (0.011591462, '1100.5.pdf'), (0.011305863, '1001.20C.pdf'), (0.009868588, '1120.12A.pdf'), (0.009359232, '1640.9A.pdf'), (0.008964524, '1754.2F.pdf'), (0.008717831, '1000.24D.pdf'), (0.008651555, '1160.6C.pdf'), (0.0077894907, '1414.4D.pdf'), (0.0077761896, '1650.26E.pdf'), (0.0074975295, '1540.2F.pdf'), (0.0068860194, '1740.4E.pdf'), (0.0067712106, '1160.9A.pdf'), (0.0064928853, '1640.8A.pdf'), (0.004559328, '1500.75D.pdf'), (0.004224465, '1530.8A.pdf'), (0.0039600953, '1601.7M.pdf'), (0.0038456256, '1000.16L With CH-2.pdf'), (0.0037839934, '1700.9E CH-1.pdf'), (0.003027699, '1500.72G.pdf'), (0.0029068906, '1500.84.pdf'), (0.0025342684, '1520.42A CH-1.pdf'), (0.0023377966, '1500.82.pdf'), (0.0022312775, '1754.1B.pdf'), (0.0013687983, '1738.1A.pdf'), (0.0011856481, '1650.8D.pdf'), (0.0010457572, '1710.7A.pdf'), (0.00081336685, '1720.4B.pdf'), (0.0007684417, '1550.12A.pdf'), (0.00054755434, '1750.5A.pdf'), (0.00041863322, '1500.83A.pdf'), (0.0002637948, ['1710.4C.pdf', 'Press Quality(1).joboptions']), (0.00010807067, '1742.1C.pdf'), (1.5810132e-05, '1540.51E.pdf'), (3.432855e-06, '1620.3.pdf'), (-2.577901e-06, '1650.28B.pdf'), (-0.00010792911, '1100.4C.pdf'), (-0.0002789963, '1710.11.pdf'), (-0.00036224816, '1550.13.pdf'), (-0.0003686156, '1700.7E.pdf'), (-0.000544521, '1620.2A.pdf'), (-0.0010082107, '1740.5D.pdf'), (-0.0010833777, '1750.3A.pdf'), (-0.0011632144, '1001.27.pdf'), (-0.0015925169, '1542.4E.pdf'), (-0.001732186, '1900.2C.pdf'), (-0.0022695512, '1300.17B.pdf'), (-0.0023242794, '1531.6D.pdf'), (-0.0025940016, '1320.6.pdf'), (-0.0027111135, '1520.37B.pdf'), (-0.0036418475, '1700.13C CH-1.pdf'), (-0.0037272535, '1542.5C.pdf'), (-0.0068898536, '1540.56B.pdf'), (-0.01059195, '1223.1D.pdf'), (-0.011228189, '1601.10D.pdf'), (-0.011535339, '1530.4033.pdf'), (-0.014651173, '1524.2.pdf'), (-0.016376417, '1427.1B.pdf'), (-0.017773218, '1650.24D.pdf'), (-0.018004043, '1754.5C.pdf'), (-0.019032694, '1720.3G.pdf'), (-0.024589099, '1650.32.pdf'), (-0.026126787, '1730.1E.pdf'), (-0.026676528, '1900.4A.pdf'), (-0.026934471, '1120.7A.pdf'), (-0.028483221, '1754.8.pdf'), (-0.03094662, '1520.36C.pdf'), (-0.031202853, '1650.31.pdf'), (-0.033342246, '1700.1164.pdf'), (-0.034231093, '1430.4C.pdf'), (-0.035122924, '1571.1B.pdf'), (-0.039077483, '1306.4A.pdf'), (-0.0425639, '1700.10N.pdf'), (-0.048307102, '1520.44.pdf'), (-0.049898207, '1500.77A.pdf'), (-0.053353526, '1520.41A.pdf'), (-0.07263559, '1520.38A.pdf'), (-0.082982704, '1120.3B.pdf'), (-0.11951823, '1650.30A CH-1.pdf'), (-0.123748384, '1754.7A OPNAV.pdf'), (-0.14493966, '1650.30A.pdf'), (-0.21299516, '1110.1B.pdf')]\n",
            "warfare pin\n",
            "[(0.6484009, '1500.57C.pdf'), (0.57787174, '1414.9B.pdf'), (0.5076366, '1414.4D.pdf'), (0.36679083, '1650.25C.pdf'), (0.29775065, '1500.84.pdf'), (0.28452778, '1500.49E.pdf'), (0.25025994, '1210.5B.pdf'), (0.21728483, '1412.11.pdf'), (0.17973965, '1534.1E.pdf'), (0.17964251, '1412.14.pdf'), (0.14765003, '1412.15.pdf'), (0.13994372, '1300.17B.pdf'), (0.13956371, '1120.13B.pdf'), (0.1343726, '1220.2B.pdf'), (0.1282638, '1542.7E.pdf'), (0.12727654, '1520.31D.pdf'), (0.122424, '1210.2C.pdf'), (0.120833665, '1524.2.pdf'), (0.119945884, '1223.1D.pdf'), (0.11258538, '1650.36.pdf'), (0.11255017, '1700.13C CH-1.pdf'), (0.11047086, '1541.5.pdf'), (0.103146054, '1650.37A.pdf'), (0.10285352, '1500.77A.pdf'), (0.10224681, '1520.18J.pdf'), (0.10075255, '1650.30A CH-1.pdf'), (0.09513487, '1650.30A.pdf'), (0.09321781, '1430.4C.pdf'), (0.09077276, '1650.33A.pdf'), (0.088565625, '1500.78.pdf'), (0.087753184, '1531.5E.pdf'), (0.08218333, '1520.40B.pdf'), (0.08128962, '1530.8A.pdf'), (0.07844705, '1650.35A.pdf'), (0.071556136, '1500.83A.pdf'), (0.069771454, '1120.10A.pdf'), (0.06976367, '1306.4A.pdf'), (0.063772716, '1520.36C.pdf'), (0.060367648, '1520.42A CH-1.pdf'), (0.057160236, '1520.38A.pdf'), (0.054227326, '1542.5C.pdf'), (0.053333767, '1420.1B OPNAV.pdf'), (0.053123243, '1000.24D.pdf'), (0.045580104, '1542.4E.pdf'), (0.045409463, '1540.51E.pdf'), (0.044970237, '1650.24D.pdf'), (0.04489241, '1560.9A.pdf'), (0.04435353, '1330.2C.pdf'), (0.04284784, '1427.2A.pdf'), (0.041593444, '1306.2H w CH-1.pdf'), (0.040938437, '1301.10C.pdf'), (0.04051552, '1700.1028.pdf'), (0.04013543, '1551.11B.pdf'), (0.04000055, '1811.3A.pdf'), (0.039430745, '1530.4035.pdf'), (0.03431098, '1700.1164.pdf'), (0.033132173, '1601.7M.pdf'), (0.033029385, '1120.12A.pdf'), (0.032275286, '1530.4033.pdf'), (0.032264277, '1770.3A.pdf'), (0.028153926, '1650.26E.pdf'), (0.027521031, '1540.56B.pdf'), (0.02718436, '1531.2C.pdf'), (0.026774047, '1650.8D.pdf'), (0.024800215, '1500.75D.pdf'), (0.02349343, '1754.7A OPNAV.pdf'), (0.021338917, '1500.22H.pdf'), (0.019070026, '1700.10N.pdf'), (0.018840652, '1730.1E.pdf'), (0.018208608, '1650.28B.pdf'), (0.017826127, '1427.1B.pdf'), (0.0154592665, '1710.10 w CH-1.pdf'), (0.013609879, '1306.3C.pdf'), (0.012334865, '1120.3B.pdf'), (0.012074692, '1500.82.pdf'), (0.012051366, '1601.10D.pdf'), (0.0112115815, '1520.39A.pdf'), (0.010402951, '1520.23C w CH-2.pdf'), (0.010336414, '1754.8.pdf'), (0.010274269, '1520.41A.pdf'), (0.009978425, '1540.2F.pdf'), (0.00806441, '1500.76C.pdf'), (0.007524185, '1220.1E.pdf'), (0.0073039, '1000.16L With CH-2.pdf'), (0.0070992224, '1520.37B.pdf'), (0.00669312, '1650.31.pdf'), (0.0066506043, '1620.2A.pdf'), (0.0056515336, '1001.20C.pdf'), (0.0055898055, '1500.27G.pdf'), (0.0053333994, '1120.6.pdf'), (0.0047647282, '1100.5.pdf'), (0.004604589, '1740.3D.pdf'), (0.00400132, '1100.4C.pdf'), (0.0039823456, '1750.1G W CH-2.pdf'), (0.003161732, '1550.13.pdf'), (0.0027563684, '1750.3A.pdf'), (0.0025308281, '1500.72G.pdf'), (0.0022935085, '1300.20.pdf'), (0.00181178, '1160.6C.pdf'), (0.0017942414, '1754.2F.pdf'), (0.0017624199, '1710.9.pdf'), (0.0016507208, '1560.10D.pdf'), (0.0014728978, '1750.5A.pdf'), (0.0014095306, '1720.3G.pdf'), (0.00069253147, '1640.9A.pdf'), (0.0003145039, '1900.2C.pdf'), (0.000270918, '1520.24D.pdf'), (0.00014565513, '1754.1B.pdf'), (9.558909e-05, '1120.5B.pdf'), (3.7647085e-05, '1752.1C.pdf'), (1.26846135e-05, '1700.9E CH-1.pdf'), (9.867945e-06, '1710.7A.pdf'), (7.573515e-06, ['1710.4C.pdf', 'Press Quality(1).joboptions']), (-3.118068e-06, '1740.5D.pdf'), (-5.776994e-05, '1001.27.pdf'), (-0.00014860556, '1300.15B.pdf'), (-0.00016672071, '1160.8B.pdf'), (-0.00018792925, '1752.2B.pdf'), (-0.00021151453, '1742.1C.pdf'), (-0.00031079212, '1640.8A.pdf'), (-0.00032480806, '1620.3.pdf'), (-0.00032784417, '1720.4B.pdf'), (-0.00036989897, '1001.26C.pdf'), (-0.00040245242, '1160.9A.pdf'), (-0.00092595257, '1550.12A.pdf'), (-0.0012364481, '1740.4E.pdf'), (-0.0012412965, '1300.14D.pdf'), (-0.0013309382, '1120.11A.pdf'), (-0.0013339631, '1320.6.pdf'), (-0.0017100684, '1500.47C.pdf'), (-0.0017588437, '1120.9A OPNAV.pdf'), (-0.0020802729, '1531.6D.pdf'), (-0.0025440743, '1650.32.pdf'), (-0.0025521554, '1900.4A.pdf'), (-0.002735421, '1710.11.pdf'), (-0.0035290434, '1120.8A.pdf'), (-0.004725368, '1510.10D.pdf'), (-0.0049535036, '1770.1B.pdf'), (-0.00515965, '1500.85.pdf'), (-0.0055650426, '1700.7E.pdf'), (-0.0075693578, '1070.2C.pdf'), (-0.007832423, '1040.11D.pdf'), (-0.008059729, '1780.4.pdf'), (-0.008602815, '1120.7A.pdf'), (-0.008692997, '1120.4C.pdf'), (-0.008700475, '1000.26B.pdf'), (-0.009411961, '1754.5C.pdf'), (-0.012432169, '1500.64C.pdf'), (-0.0124663245, '1820.1B.pdf'), (-0.018072218, '1752.3.pdf'), (-0.01875037, '1700.17.pdf'), (-0.019617192, '1300.19A.pdf'), (-0.019640382, '1738.1A.pdf'), (-0.022113435, '1740.6.pdf'), (-0.022878703, '1301.11.pdf'), (-0.023378868, '1754.4A.pdf'), (-0.024565633, '1300.18B.pdf'), (-0.028506707, '1110.1B.pdf'), (-0.042824153, '1001.19D.pdf'), (-0.04567683, '1571.1B.pdf'), (-0.046842225, '1700.16B.pdf'), (-0.049785025, '1520.44.pdf'), (-0.06804176, '1770.2B.pdf'), (-0.0729911, '1000.1N.pdf'), (-0.08704561, '1520.43B.pdf')]\n",
            "ldo package\n",
            "[(0.5723535, '1120.12A.pdf'), (0.30786166, '1420.1B OPNAV.pdf'), (0.28877175, '1650.26E.pdf'), (0.2677024, '1700.17.pdf'), (0.26639992, '1700.10N.pdf'), (0.2562798, '1650.33A.pdf'), (0.19372217, '1700.1028.pdf'), (0.1807777, '1300.17B.pdf'), (0.16399983, '1210.5B.pdf'), (0.15758686, ['1710.4C.pdf', 'Press Quality(1).joboptions']), (0.12495801, '1650.30A.pdf'), (0.12241401, '1700.1164.pdf'), (0.11760407, '1500.64C.pdf'), (0.10763716, '1120.3B.pdf'), (0.1067162, '1650.32.pdf'), (0.099168286, '1650.30A CH-1.pdf'), (0.09805799, '1500.83A.pdf'), (0.097613834, '1650.36.pdf'), (0.09508024, '1001.27.pdf'), (0.09456059, '1571.1B.pdf'), (0.0923256, '1320.6.pdf'), (0.08705014, '1700.16B.pdf'), (0.08213401, '1301.11.pdf'), (0.07882823, '1700.7E.pdf'), (0.07450459, '1520.36C.pdf'), (0.071685, '1412.15.pdf'), (0.06431499, '1531.2C.pdf'), (0.06428358, '1210.2C.pdf'), (0.06385979, '1650.37A.pdf'), (0.0631901, '1306.4A.pdf'), (0.0620031, '1700.13C CH-1.pdf'), (0.060958683, '1306.2H w CH-1.pdf'), (0.0588321, '1001.19D.pdf'), (0.05776008, '1524.2.pdf'), (0.054804515, '1000.26B.pdf'), (0.053112373, '1520.37B.pdf'), (0.049936783, '1120.6.pdf'), (0.048523046, '1330.2C.pdf'), (0.045620505, '1430.4C.pdf'), (0.045050602, '1223.1D.pdf'), (0.044494238, '1601.10D.pdf'), (0.041990474, '1650.28B.pdf'), (0.041404095, '1500.72G.pdf'), (0.04135251, '1120.10A.pdf'), (0.040768806, '1550.12A.pdf'), (0.038753174, '1500.78.pdf'), (0.03683019, '1770.1B.pdf'), (0.03577748, '1070.2C.pdf'), (0.035139747, '1531.6D.pdf'), (0.03454356, '1650.31.pdf'), (0.034328453, '1520.40B.pdf'), (0.034073867, '1520.18J.pdf'), (0.031633236, '1000.1N.pdf'), (0.03085456, '1550.13.pdf'), (0.024233464, '1531.5E.pdf'), (0.02375672, '1540.2F.pdf'), (0.023007251, '1754.4A.pdf'), (0.022293363, '1540.56B.pdf'), (0.021892728, '1160.8B.pdf'), (0.021830093, '1120.4C.pdf'), (0.019760028, '1900.2C.pdf'), (0.019632153, '1780.4.pdf'), (0.019317243, '1740.6.pdf'), (0.018207883, '1220.1E.pdf'), (0.017649412, '1542.4E.pdf'), (0.017262582, '1001.26C.pdf'), (0.01695197, '1500.49E.pdf'), (0.016581375, '1520.44.pdf'), (0.015995681, '1520.31D.pdf'), (0.01378582, '1412.14.pdf'), (0.013689145, '1520.38A.pdf'), (0.012451025, '1120.8A.pdf'), (0.012424678, '1740.4E.pdf'), (0.010906707, '1100.5.pdf'), (0.010608964, '1620.3.pdf'), (0.010491695, '1500.84.pdf'), (0.009386791, '1534.1E.pdf'), (0.009143185, '1412.11.pdf'), (0.008463095, '1000.16L With CH-2.pdf'), (0.007282339, '1530.4035.pdf'), (0.0063493475, '1730.1E.pdf'), (0.0062035974, '1740.3D.pdf'), (0.0059986524, '1710.10 w CH-1.pdf'), (0.005275946, '1770.3A.pdf'), (0.004838664, '1300.19A.pdf'), (0.004627738, '1900.4A.pdf'), (0.0044993423, '1100.4C.pdf'), (0.003942646, '1560.9A.pdf'), (0.0032490715, '1540.51E.pdf'), (0.0030481294, '1720.3G.pdf'), (0.0026417375, '1500.76C.pdf'), (0.0019178092, '1640.9A.pdf'), (0.0018590428, '1520.39A.pdf'), (0.001668036, '1720.4B.pdf'), (0.0014300495, '1300.15B.pdf'), (0.0013804398, '1306.3C.pdf'), (0.0012206994, '1541.5.pdf'), (0.0009922087, '1754.2F.pdf'), (0.0009075068, '1750.3A.pdf'), (0.00072712824, '1300.20.pdf'), (0.0006711967, '1300.14D.pdf'), (0.0005993284, '1710.11.pdf'), (0.00052405894, '1520.23C w CH-2.pdf'), (0.0004588738, '1500.75D.pdf'), (0.00045309775, '1620.2A.pdf'), (0.00030187517, '1740.5D.pdf'), (0.00027264655, '1000.24D.pdf'), (5.0079077e-05, '1752.2B.pdf'), (6.735325e-06, '1500.82.pdf'), (-2.924353e-07, '1752.1C.pdf'), (-4.9429946e-07, '1710.7A.pdf'), (-1.3662502e-05, '1754.1B.pdf'), (-1.450628e-05, '1700.9E CH-1.pdf'), (-7.727556e-05, '1640.8A.pdf'), (-9.668432e-05, '1160.9A.pdf'), (-0.00019638054, '1001.20C.pdf'), (-0.00021016039, '1520.24D.pdf'), (-0.00021474436, '1750.1G W CH-2.pdf'), (-0.00026473403, '1500.47C.pdf'), (-0.0002758745, '1710.9.pdf'), (-0.0003957227, '1510.10D.pdf'), (-0.00041809864, '1750.5A.pdf'), (-0.00042197108, '1530.8A.pdf'), (-0.00056996197, '1520.42A CH-1.pdf'), (-0.00061208755, '1500.27G.pdf'), (-0.0008787364, '1560.10D.pdf'), (-0.00088717043, '1754.5C.pdf'), (-0.0012807846, '1120.11A.pdf'), (-0.0013486743, '1742.1C.pdf'), (-0.0017033294, '1650.8D.pdf'), (-0.0021961555, '1752.3.pdf'), (-0.0032068416, '1820.1B.pdf'), (-0.0041795447, '1551.11B.pdf'), (-0.0046956837, '1500.57C.pdf'), (-0.0056519955, '1542.5C.pdf'), (-0.005699355, '1120.9A OPNAV.pdf'), (-0.0065037087, '1770.2B.pdf'), (-0.0070736744, '1754.8.pdf'), (-0.007270038, '1120.13B.pdf'), (-0.007404696, '1160.6C.pdf'), (-0.007781245, '1301.10C.pdf'), (-0.007798098, '1120.5B.pdf'), (-0.008780301, '1530.4033.pdf'), (-0.009749085, '1040.11D.pdf'), (-0.014868341, '1738.1A.pdf'), (-0.016718913, '1811.3A.pdf'), (-0.018517986, '1120.7A.pdf'), (-0.021391712, '1520.41A.pdf'), (-0.022760812, '1500.85.pdf'), (-0.024086157, '1427.1B.pdf'), (-0.025551759, '1520.43B.pdf'), (-0.029685386, '1500.77A.pdf'), (-0.03464166, '1414.4D.pdf'), (-0.040833823, '1427.2A.pdf'), (-0.04303518, '1110.1B.pdf'), (-0.05508648, '1500.22H.pdf'), (-0.056449194, '1601.7M.pdf'), (-0.05654156, '1650.35A.pdf'), (-0.061116252, '1754.7A OPNAV.pdf'), (-0.06118269, '1414.9B.pdf'), (-0.06221584, '1650.25C.pdf'), (-0.064941026, '1650.24D.pdf'), (-0.08011566, '1300.18B.pdf'), (-0.0832758, '1220.2B.pdf'), (-0.09031546, '1542.7E.pdf')]\n",
            "career intermission program\n",
            "[(0.6443924, '1330.2C.pdf'), (0.5215726, '1520.31D.pdf'), (0.4736666, '1110.1B.pdf'), (0.39207077, '1520.44.pdf'), (0.39146897, '1500.72G.pdf'), (0.38573742, '1520.37B.pdf'), (0.38167566, '1430.4C.pdf'), (0.38096523, '1524.2.pdf'), (0.37372828, '1520.24D.pdf'), (0.36267716, '1520.41A.pdf'), (0.3342952, '1040.11D.pdf'), (0.33241484, '1500.83A.pdf'), (0.3311172, '1754.7A OPNAV.pdf'), (0.30862468, '1520.18J.pdf'), (0.30769375, '1540.56B.pdf'), (0.30748266, '1520.36C.pdf'), (0.30700088, '1770.3A.pdf'), (0.30448985, '1500.85.pdf'), (0.29634476, '1754.1B.pdf'), (0.2821951, '1500.78.pdf'), (0.27218157, '1120.3B.pdf'), (0.27172357, '1500.77A.pdf'), (0.26524857, '1520.39A.pdf'), (0.25411224, '1542.4E.pdf'), (0.2466987, '1650.30A.pdf'), (0.24428809, '1650.30A CH-1.pdf'), (0.24058717, '1542.7E.pdf'), (0.23914824, '1770.1B.pdf'), (0.22999027, '1301.11.pdf'), (0.22599655, '1220.2B.pdf'), (0.21581042, '1520.40B.pdf'), (0.21566053, '1420.1B OPNAV.pdf'), (0.20794737, '1520.23C w CH-2.pdf'), (0.2073522, '1120.13B.pdf'), (0.20403256, '1540.51E.pdf'), (0.1985419, '1900.2C.pdf'), (0.19614899, '1560.9A.pdf'), (0.192784, '1542.5C.pdf'), (0.1844807, '1650.37A.pdf'), (0.17903875, '1500.64C.pdf'), (0.17503622, '1740.5D.pdf'), (0.1731678, '1750.1G W CH-2.pdf'), (0.1706885, '1740.3D.pdf'), (0.16644116, '1550.12A.pdf'), (0.16296935, '1710.9.pdf'), (0.15879375, '1740.6.pdf'), (0.15784761, '1120.11A.pdf'), (0.15771466, '1412.14.pdf'), (0.15570512, '1700.1028.pdf'), (0.15537417, '1520.38A.pdf'), (0.15477575, '1550.13.pdf'), (0.1530892, '1100.5.pdf'), (0.15261205, '1160.9A.pdf'), (0.1512357, '1571.1B.pdf'), (0.14902765, '1551.11B.pdf'), (0.14825258, '1720.4B.pdf'), (0.14702868, '1414.9B.pdf'), (0.14622591, '1742.1C.pdf'), (0.14608142, '1700.7E.pdf'), (0.13964547, '1510.10D.pdf'), (0.13367881, '1306.4A.pdf'), (0.13094969, '1780.4.pdf'), (0.12752445, '1120.9A OPNAV.pdf'), (0.126721, '1710.10 w CH-1.pdf'), (0.12467351, '1650.31.pdf'), (0.11952847, '1500.82.pdf'), (0.11673206, '1534.1E.pdf'), (0.11562617, '1700.10N.pdf'), (0.1151243, '1301.10C.pdf'), (0.11081819, '1560.10D.pdf'), (0.110816725, '1070.2C.pdf'), (0.10695516, '1738.1A.pdf'), (0.10690899, '1120.5B.pdf'), (0.10408891, '1720.3G.pdf'), (0.102362, '1754.4A.pdf'), (0.10041714, '1120.8A.pdf'), (0.10029818, '1531.2C.pdf'), (0.09974673, '1427.2A.pdf'), (0.09950665, '1120.7A.pdf'), (0.09927225, '1754.2F.pdf'), (0.098867044, '1500.57C.pdf'), (0.097514056, '1500.22H.pdf'), (0.097145244, '1414.4D.pdf'), (0.09441179, '1650.32.pdf'), (0.092347704, '1700.9E CH-1.pdf'), (0.09022102, '1650.26E.pdf'), (0.08905675, '1000.16L With CH-2.pdf'), (0.08794443, '1541.5.pdf'), (0.08761207, '1752.1C.pdf'), (0.083928466, '1650.25C.pdf'), (0.083844066, '1710.11.pdf'), (0.08259036, '1306.2H w CH-1.pdf'), (0.081100166, '1700.13C CH-1.pdf'), (0.08076702, '1223.1D.pdf'), (0.07964812, '1000.26B.pdf'), (0.07955802, '1754.8.pdf'), (0.07911533, '1650.36.pdf'), (0.07866401, '1500.76C.pdf'), (0.07767511, '1210.5B.pdf'), (0.073763445, '1540.2F.pdf'), (0.07373622, '1001.20C.pdf'), (0.072920725, '1412.11.pdf'), (0.072904125, '1752.2B.pdf'), (0.07033821, '1160.8B.pdf'), (0.06985945, '1120.10A.pdf'), (0.06671733, '1500.49E.pdf'), (0.06657263, '1531.5E.pdf'), (0.06652764, '1160.6C.pdf'), (0.06646322, '1412.15.pdf'), (0.066108555, ['1710.4C.pdf', 'Press Quality(1).joboptions']), (0.063905805, '1120.12A.pdf'), (0.06314545, '1500.27G.pdf'), (0.0603557, '1520.43B.pdf'), (0.05564069, '1750.5A.pdf'), (0.05450094, '1700.1164.pdf'), (0.054239307, '1650.28B.pdf'), (0.053334787, '1650.35A.pdf'), (0.051675476, '1530.4033.pdf'), (0.050768614, '1120.4C.pdf'), (0.049227647, '1001.19D.pdf'), (0.04874899, '1530.8A.pdf'), (0.048472516, '1210.2C.pdf'), (0.048249684, '1520.42A CH-1.pdf'), (0.046921704, '1650.8D.pdf'), (0.044734195, '1530.4035.pdf'), (0.04399544, '1650.24D.pdf'), (0.04377307, '1700.17.pdf'), (0.042258788, '1300.20.pdf'), (0.042123586, '1000.24D.pdf'), (0.039463874, '1500.47C.pdf'), (0.039056044, '1300.19A.pdf'), (0.037898622, '1300.14D.pdf'), (0.03664086, '1752.3.pdf'), (0.03431941, '1900.4A.pdf'), (0.03419108, '1650.33A.pdf'), (0.031879067, '1531.6D.pdf'), (0.031244654, '1300.15B.pdf'), (0.030249119, '1500.84.pdf'), (0.028397165, '1500.75D.pdf'), (0.027391437, '1300.18B.pdf'), (0.025846489, '1750.3A.pdf'), (0.024737865, '1100.4C.pdf'), (0.02371186, '1306.3C.pdf'), (0.02164904, '1620.3.pdf'), (0.0211908, '1220.1E.pdf'), (0.020275, '1730.1E.pdf'), (0.020167712, '1120.6.pdf'), (0.018305276, '1811.3A.pdf'), (0.013513502, '1601.10D.pdf'), (0.011399551, '1001.26C.pdf'), (0.011193424, '1820.1B.pdf'), (0.008942824, '1300.17B.pdf'), (0.0068628155, '1640.9A.pdf'), (0.006566178, '1000.1N.pdf'), (0.0060417503, '1740.4E.pdf'), (0.0054041594, '1640.8A.pdf'), (0.0043334067, '1001.27.pdf'), (0.003498001, '1320.6.pdf'), (0.0024844997, '1710.7A.pdf'), (0.0006798003, '1754.5C.pdf'), (-0.00015574694, '1620.2A.pdf'), (-0.0036006253, '1427.1B.pdf'), (-0.0053133853, '1770.2B.pdf'), (-0.023832224, '1601.7M.pdf'), (-0.029239044, '1700.16B.pdf')]\n"
          ],
          "name": "stdout"
        }
      ]
    },
    {
      "cell_type": "markdown",
      "metadata": {
        "id": "mdjxZrxHFLwN",
        "colab_type": "text"
      },
      "source": [
        "### Conclusion"
      ]
    },
    {
      "cell_type": "markdown",
      "metadata": {
        "id": "cv4x7xuEFNkw",
        "colab_type": "text"
      },
      "source": [
        "This model could be very useful in production. There is a huge corpus of instructions that USN personnel have to sort through in order to get information - an easy way to query this corpus to find relevant instructions given a topic would save everyone time and energy. There is no objective metric with which to measure 'accuracy' but the searches have consistently returned sane and sensible results during operator testing."
      ]
    }
  ]
}
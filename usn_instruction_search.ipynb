{
  "nbformat": 4,
  "nbformat_minor": 0,
  "metadata": {
    "kernelspec": {
      "display_name": "Python 3",
      "language": "python",
      "name": "python3"
    },
    "language_info": {
      "codemirror_mode": {
        "name": "ipython",
        "version": 3
      },
      "file_extension": ".py",
      "mimetype": "text/x-python",
      "name": "python",
      "nbconvert_exporter": "python",
      "pygments_lexer": "ipython3",
      "version": "3.6.5"
    },
    "colab": {
      "name": "usn_instruction_search.ipynb",
      "provenance": [],
      "include_colab_link": true
    }
  },
  "cells": [
    {
      "cell_type": "markdown",
      "metadata": {
        "id": "view-in-github",
        "colab_type": "text"
      },
      "source": [
        "<a href=\"https://colab.research.google.com/github/bstrain71/usn_instruction_search/blob/master/usn_instruction_search.ipynb\" target=\"_parent\"><img src=\"https://colab.research.google.com/assets/colab-badge.svg\" alt=\"Open In Colab\"/></a>"
      ]
    },
    {
      "cell_type": "markdown",
      "metadata": {
        "id": "T_LG-8eNj7CV",
        "colab_type": "text"
      },
      "source": [
        "### INGEST"
      ]
    },
    {
      "cell_type": "code",
      "metadata": {
        "id": "aOt-HPeeeNV5",
        "colab_type": "code",
        "colab": {}
      },
      "source": [
        "%matplotlib inline"
      ],
      "execution_count": 0,
      "outputs": []
    },
    {
      "cell_type": "code",
      "metadata": {
        "id": "RoXJ2TGoj93q",
        "colab_type": "code",
        "colab": {
          "base_uri": "https://localhost:8080/",
          "height": 35
        },
        "outputId": "6ea0a12c-41c4-4602-bcd0-f8f4513ad0ee"
      },
      "source": [
        "# Load gdrive\n",
        "from google.colab import drive\n",
        "drive.mount('/content/gdrive/')"
      ],
      "execution_count": 133,
      "outputs": [
        {
          "output_type": "stream",
          "text": [
            "Drive already mounted at /content/gdrive/; to attempt to forcibly remount, call drive.mount(\"/content/gdrive/\", force_remount=True).\n"
          ],
          "name": "stdout"
        }
      ]
    },
    {
      "cell_type": "code",
      "metadata": {
        "id": "Qu_BNqILquGD",
        "colab_type": "code",
        "colab": {}
      },
      "source": [
        "!pip install -q tika #install tika"
      ],
      "execution_count": 0,
      "outputs": []
    },
    {
      "cell_type": "code",
      "metadata": {
        "id": "fWcmqjWNpN6p",
        "colab_type": "code",
        "colab": {}
      },
      "source": [
        "from tika import parser\n",
        "\n",
        "# Test code for seeing how tika works.\n",
        "#raw = parser.from_file('/content/gdrive/My Drive/MSDS_422/OPNAV_Instructions/1000.16L With CH-2.pdf')\n",
        "# raw['content'] gives the raw text of the pdf\n",
        "#print(raw['content'])\n",
        "#raw.keys()\n",
        "#raw['metadata']['resourceName'] # Calls the file name - not metadata. not every file has metadata so don't rely on it."
      ],
      "execution_count": 0,
      "outputs": []
    },
    {
      "cell_type": "code",
      "metadata": {
        "id": "kD2Q8rZGvnV4",
        "colab_type": "code",
        "colab": {}
      },
      "source": [
        "import os\n",
        "\n",
        "# The indices for these are the same so they can be zipped later.\n",
        "# The .pdf filename is what is read, not the metadata, so whatever\n",
        "# the file is called in the folder is what it will be listed as\n",
        "# in the results.\n",
        "\n",
        "documents = [] # Contains raw text from all .pdfs.\n",
        "filenames = [] # Contains the filenames of the .pdfs\n",
        "\n",
        "# Parse all .pdf contents and their filenames.\n",
        "directory = '/content/gdrive/My Drive/MSDS_422/OPNAV_Instructions/'\n",
        "for file in os.listdir(directory):\n",
        "  temp = parser.from_file(directory+file)\n",
        "  documents.append(temp['content'])\n",
        "  filenames.append(temp['metadata']['resourceName'])"
      ],
      "execution_count": 0,
      "outputs": []
    },
    {
      "cell_type": "markdown",
      "metadata": {
        "id": "66RdSdPi9lvl",
        "colab_type": "text"
      },
      "source": [
        "### EDA and Data Cleaning"
      ]
    },
    {
      "cell_type": "markdown",
      "metadata": {
        "id": "E-VIDz859ODh",
        "colab_type": "text"
      },
      "source": [
        "Make everything in the document lowercase and remove stopwords. The stopwords list can be modified as needed, this one comes directly from the gensim documentation and is relatively standard."
      ]
    },
    {
      "cell_type": "code",
      "metadata": {
        "id": "STJ0daY4eNWT",
        "colab_type": "code",
        "colab": {}
      },
      "source": [
        "from collections import defaultdict\n",
        "from gensim import corpora\n",
        "\n",
        "# improved list from Stone, Denis, Kwantes (2010)\n",
        "STOPWORDS = \"\"\"\n",
        "a about above across after afterwards again against all almost alone along already also although always am among amongst amoungst amount an and another any anyhow anyone anything anyway anywhere are around as at back be\n",
        "became because become becomes becoming been before beforehand behind being below beside besides between beyond bill both bottom but by call can\n",
        "cannot cant co computer con could couldnt cry de describe\n",
        "detail did didn do does doesn doing don done down due during\n",
        "each eg eight either eleven else elsewhere empty enough etc even ever every everyone everything everywhere except few fifteen\n",
        "fify fill find fire first five for former formerly forty found four from front full further get give go\n",
        "had has hasnt have he hence her here hereafter hereby herein hereupon hers herself him himself his how however hundred i ie\n",
        "if in inc indeed interest into is it its itself keep last latter latterly least less ltd\n",
        "just\n",
        "kg km\n",
        "made make many may me meanwhile might mill mine more moreover most mostly move much must my myself name namely\n",
        "neither never nevertheless next nine no nobody none noone nor not nothing now nowhere of off\n",
        "often on once one only onto or other others otherwise our ours ourselves out over own part per\n",
        "perhaps please put rather re\n",
        "quite\n",
        "rather really regarding\n",
        "same say see seem seemed seeming seems serious several she should show side since sincere six sixty so some somehow someone something sometime sometimes somewhere still such system take ten\n",
        "than that the their them themselves then thence there thereafter thereby therefore therein thereupon these they thick thin third this those though three through throughout thru thus to together too top toward towards twelve twenty two un under\n",
        "until up unless upon us used using\n",
        "various very very via\n",
        "was we well were what whatever when whence whenever where whereafter whereas whereby wherein whereupon wherever whether which while whither who whoever whole whom whose why will with within without would yet you\n",
        "your yours yourself yourselves\n",
        "\"\"\"\n",
        "\n",
        "# remove common words and tokenize\n",
        "stoplist = set(STOPWORDS.split())\n",
        "texts = [\n",
        "    [word for word in document.lower().split() if word not in stoplist]\n",
        "    for document in documents\n",
        "]\n",
        "\n",
        "# remove words that appear only once\n",
        "frequency = defaultdict(int)\n",
        "for text in texts:\n",
        "    for token in text:\n",
        "        frequency[token] += 1\n",
        "\n",
        "texts = [\n",
        "    [token for token in text if frequency[token] > 1]\n",
        "    for text in texts\n",
        "]\n",
        "\n",
        "# Building the corpus.\n",
        "dictionary = corpora.Dictionary(texts)\n",
        "corpus = [dictionary.doc2bow(text) for text in texts]"
      ],
      "execution_count": 0,
      "outputs": []
    },
    {
      "cell_type": "markdown",
      "metadata": {
        "id": "SOQTYvds9tn6",
        "colab_type": "text"
      },
      "source": [
        "### Modeling"
      ]
    },
    {
      "cell_type": "markdown",
      "metadata": {
        "id": "1ReXI7pk83bp",
        "colab_type": "text"
      },
      "source": [
        "Build the model to measure similarity between documents. Here we will use Latent Semantic Analysis (LSI)"
      ]
    },
    {
      "cell_type": "code",
      "metadata": {
        "id": "klcmgU3PeNWc",
        "colab_type": "code",
        "colab": {}
      },
      "source": [
        "from gensim import models\n",
        "# LSI uses singular value decomposition - I think that\n",
        "# num_topics corresponds do the number of singular values\n",
        "# to use.\n",
        "# \"Indexing by Latent Semantic Analysis\" <http://www.cs.bham.ac.uk/~pxt/IDA/lsa_ind.pdf>\n",
        "# Latent Semantic Indexing <https://en.wikipedia.org/wiki/Latent_semantic_indexing>\n",
        "lsi = models.LsiModel(corpus, id2word=dictionary, num_topics=200)"
      ],
      "execution_count": 0,
      "outputs": []
    },
    {
      "cell_type": "markdown",
      "metadata": {
        "id": "cpXBeol5_GY4",
        "colab_type": "text"
      },
      "source": [
        "Now suppose a user typed in the query [whatever doc = 'user stuff']. We would like to sort the corpus documents in decreasing order of relevance to this query. Unlike modern search engines, here we only concentrate on a single aspect of possible similarities—on apparent semantic relatedness of their texts (words). No hyperlinks, no random-walk static ranks, just a semantic extension over the boolean keyword match:"
      ]
    },
    {
      "cell_type": "code",
      "metadata": {
        "id": "If35NwYmeNWl",
        "colab_type": "code",
        "colab": {
          "base_uri": "https://localhost:8080/",
          "height": 55
        },
        "outputId": "c6e3ef7e-d8cb-40d3-b82b-ffb6a3be3361"
      },
      "source": [
        "# Here the 'doc' object is the user's search term.\n",
        "# vec_bow cleans the user's search term\n",
        "# vec_lsi is a list of tuples which are the similarities,\n",
        "\n",
        "# This is only the boolean similarity!\n",
        "# This is the same as doing Ctrl+F and counting\n",
        "# the number of hits.\n",
        "\n",
        "doc = \"navy reserve\"\n",
        "vec_bow = dictionary.doc2bow(doc.lower().split())\n",
        "vec_lsi = lsi[vec_bow]  # convert the query to LSI space\n",
        "print(vec_lsi)"
      ],
      "execution_count": 140,
      "outputs": [
        {
          "output_type": "stream",
          "text": [
            "[(0, 0.20953591805203933), (1, -0.08371080856048055), (2, 0.3335065005276335), (3, 0.04844744519897767), (4, 0.20636374833524268), (5, -0.028140754621893485), (6, -0.036556940949814064), (7, 0.2038751622586038), (8, 0.11065184251086967), (9, -0.43559867237641514), (10, -0.17408789270377045), (11, 0.07901844817154288), (12, -0.1858362994981624), (13, -0.07761785022022237), (14, 0.09192836687309641), (15, -0.10322157257862406), (16, -0.14010313198102434), (17, 0.14741448566075813), (18, 0.23490911103842063), (19, -0.05123657702842499), (20, -0.09368114017994361), (21, 0.047366487481964904), (22, -0.16905245166066268), (23, 0.24136700933145136), (24, 0.03409186637205262), (25, 0.11158534957352377), (26, -0.2653334232762108)]\n"
          ],
          "name": "stdout"
        }
      ]
    },
    {
      "cell_type": "markdown",
      "metadata": {
        "id": "LDc4LmyneNWp",
        "colab_type": "text"
      },
      "source": [
        "In addition, we will be considering `cosine similarity <http://en.wikipedia.org/wiki/Cosine_similarity>`_\n",
        "to determine the similarity of two vectors. Cosine similarity is a standard measure\n",
        "in Vector Space Modeling, but wherever the vectors represent probability distributions,\n",
        "`different similarity measures <http://en.wikipedia.org/wiki/Kullback%E2%80%93Leibler_divergence#Symmetrised_divergence>`_\n",
        "may be more appropriate.\n",
        "\n",
        "Initializing query structures\n",
        "++++++++++++++++++++++++++++++++\n",
        "\n",
        "To prepare for similarity queries, we need to enter all documents which we want\n",
        "to compare against subsequent queries.\n",
        "\n"
      ]
    },
    {
      "cell_type": "code",
      "metadata": {
        "id": "JxRponkfeNWr",
        "colab_type": "code",
        "colab": {
          "base_uri": "https://localhost:8080/",
          "height": 55
        },
        "outputId": "6a2a1dec-c2ff-43b0-fa19-3b09d1d800a6"
      },
      "source": [
        "from gensim import similarities\n",
        "index = similarities.MatrixSimilarity(lsi[corpus])  # transform corpus to LSI space and index it"
      ],
      "execution_count": 141,
      "outputs": [
        {
          "output_type": "stream",
          "text": [
            "FutureWarning: Conversion of the second argument of issubdtype from `int` to `np.signedinteger` is deprecated. In future, it will be treated as `np.int64 == np.dtype(int).type`. [matutils.py:737]\n"
          ],
          "name": "stderr"
        }
      ]
    },
    {
      "cell_type": "markdown",
      "metadata": {
        "id": "dQtEyMiCeNWx",
        "colab_type": "text"
      },
      "source": [
        "<div class=\"alert alert-danger\"><h4>Warning</h4><p>The class :class:`similarities.MatrixSimilarity` is only appropriate when the whole\n",
        "  set of vectors fits into memory. For example, a corpus of one million documents\n",
        "  would require 2GB of RAM in a 256-dimensional LSI space, when used with this class.\n",
        "\n",
        "  Without 2GB of free RAM, you would need to use the :class:`similarities.Similarity` class.\n",
        "  This class operates in fixed memory, by splitting the index across multiple files on disk, called shards.\n",
        "  It uses :class:`similarities.MatrixSimilarity` and :class:`similarities.SparseMatrixSimilarity` internally,\n",
        "  so it is still fast, although slightly more complex.</p></div>\n",
        "\n",
        "Index persistency is handled via the standard :func:`save` and :func:`load` functions:\n",
        "\n"
      ]
    },
    {
      "cell_type": "code",
      "metadata": {
        "id": "nApicIzleNWz",
        "colab_type": "code",
        "colab": {
          "base_uri": "https://localhost:8080/",
          "height": 55
        },
        "outputId": "c2fde876-83d5-4403-e17e-ccd1d23c6d9c"
      },
      "source": [
        "index.save('/tmp/deerwester.index')\n",
        "index = similarities.MatrixSimilarity.load('/tmp/deerwester.index')"
      ],
      "execution_count": 142,
      "outputs": [
        {
          "output_type": "stream",
          "text": [
            "UserWarning: This function is deprecated, use smart_open.open instead. See the migration notes for details: https://github.com/RaRe-Technologies/smart_open/blob/master/README.rst#migrating-to-the-new-open-function [smart_open_lib.py:402]\n"
          ],
          "name": "stderr"
        }
      ]
    },
    {
      "cell_type": "markdown",
      "metadata": {
        "id": "rZFOVo4veNW4",
        "colab_type": "text"
      },
      "source": [
        "This is true for all similarity indexing classes (:class:`similarities.Similarity`,\n",
        ":class:`similarities.MatrixSimilarity` and :class:`similarities.SparseMatrixSimilarity`).\n",
        "Also in the following, `index` can be an object of any of these. When in doubt,\n",
        "use :class:`similarities.Similarity`, as it is the most scalable version, and it also\n",
        "supports adding more documents to the index later.\n",
        "\n",
        "Performing queries\n",
        "++++++++++++++++++\n",
        "\n",
        "To obtain similarities of our query document against the nine indexed documents:\n",
        "\n"
      ]
    },
    {
      "cell_type": "code",
      "metadata": {
        "id": "gT5kGVeSeNW6",
        "colab_type": "code",
        "colab": {
          "base_uri": "https://localhost:8080/",
          "height": 55
        },
        "outputId": "eaba1936-eaf6-4aac-e3c8-a9f1f010e148"
      },
      "source": [
        "# index is the similarity index, or what we are checking against (corpus in the lsi space)\n",
        "# vec_lsi is our query in the lsi space\n",
        "# the output is the similarity tuples\n",
        "\n",
        "sims = index[vec_lsi]\n",
        "\n",
        "similarity_list = list(zip(sims, filenames))\n",
        "#print(similarity_list)\n",
        "print(sorted(similarity_list, reverse = True))"
      ],
      "execution_count": 145,
      "outputs": [
        {
          "output_type": "stream",
          "text": [
            "[(0.70106417, '1120.3B.pdf'), (0.65377223, '1120.12A.pdf'), (0.5841409, '1001.19D.pdf'), (0.45244828, '1120.10A.pdf'), (0.44439676, '1120.6.pdf'), (0.42569372, '1001.27.pdf'), (0.4212415, '1040.11D.pdf'), (0.41672656, '1110.1B.pdf'), (0.35443875, '1120.5B.pdf'), (0.33901176, '1001.26C.pdf'), (0.32533118, '1120.8A.pdf'), (0.319309, '1000.26B.pdf'), (0.2606853, '1000.24D.pdf'), (0.25301617, '1000.1N.pdf'), (0.24673752, '1120.13B.pdf'), (0.23311296, '1120.11A.pdf'), (0.2297713, '1001.20C.pdf'), (0.22353701, '1070.2C.pdf'), (0.21817255, '1120.9A OPNAV.pdf'), (0.20258094, '1160.6C.pdf'), (0.19712898, '1120.7A.pdf'), (0.19594117, '1120.4C.pdf'), (0.19505413, '1000.16L With CH-2.pdf'), (0.0969552, '1160.9A.pdf'), (0.095172174, '1160.8B.pdf'), (0.058286358, '1100.4C.pdf'), (0.027300106, '1100.5.pdf')]\n"
          ],
          "name": "stdout"
        }
      ]
    },
    {
      "cell_type": "markdown",
      "metadata": {
        "id": "mdjxZrxHFLwN",
        "colab_type": "text"
      },
      "source": [
        "### Conclusion"
      ]
    },
    {
      "cell_type": "markdown",
      "metadata": {
        "id": "cv4x7xuEFNkw",
        "colab_type": "text"
      },
      "source": [
        "This model could be very useful in production. There is a huge corpus of instructions that USN personnel have to sort through in order to get information - an easy way to query this corpus to find relevant instructions given a topic would save everyone time and energy. There is no objective metric with which to measure 'accuracy' but the searches have consistently returned sane and sensible results during operator testing."
      ]
    }
  ]
}